{
 "cells": [
  {
   "cell_type": "code",
   "execution_count": 1,
   "id": "d16f249c",
   "metadata": {
    "_cell_guid": "b1076dfc-b9ad-4769-8c92-a6c4dae69d19",
    "_uuid": "8f2839f25d086af736a60e9eeb907d3b93b6e0e5",
    "execution": {
     "iopub.execute_input": "2023-05-12T12:54:56.546555Z",
     "iopub.status.busy": "2023-05-12T12:54:56.546120Z",
     "iopub.status.idle": "2023-05-12T12:54:56.567479Z",
     "shell.execute_reply": "2023-05-12T12:54:56.566526Z"
    },
    "papermill": {
     "duration": 0.033467,
     "end_time": "2023-05-12T12:54:56.569876",
     "exception": false,
     "start_time": "2023-05-12T12:54:56.536409",
     "status": "completed"
    },
    "tags": []
   },
   "outputs": [
    {
     "name": "stdout",
     "output_type": "stream",
     "text": [
      "/kaggle/input/food-and-their-calories/Food and Calories - Sheet1.csv\n",
      "/kaggle/input/diet-plan-recommendation/Dataset.csv\n"
     ]
    }
   ],
   "source": [
    "# This Python 3 environment comes with many helpful analytics libraries installed\n",
    "# It is defined by the kaggle/python Docker image: https://github.com/kaggle/docker-python\n",
    "# For example, here's several helpful packages to load\n",
    "\n",
    "import numpy as np # linear algebra\n",
    "import pandas as pd # data processing, CSV file I/O (e.g. pd.read_csv)\n",
    "\n",
    "# Input data files are available in the read-only \"../input/\" directory\n",
    "# For example, running this (by clicking run or pressing Shift+Enter) will list all files under the input directory\n",
    "\n",
    "import os\n",
    "for dirname, _, filenames in os.walk('/kaggle/input'):\n",
    "    for filename in filenames:\n",
    "        print(os.path.join(dirname, filename))\n",
    "        \n",
    "\n",
    "# You can write up to 20GB to the current directory (/kaggle/working/) that gets preserved as output when you create a version using \"Save & Run All\" \n",
    "# You can also write temporary files to /kaggle/temp/, but they won't be saved outside of the current session"
   ]
  },
  {
   "cell_type": "code",
   "execution_count": 2,
   "id": "6a958465",
   "metadata": {
    "execution": {
     "iopub.execute_input": "2023-05-12T12:54:56.592363Z",
     "iopub.status.busy": "2023-05-12T12:54:56.591678Z",
     "iopub.status.idle": "2023-05-12T12:54:56.651531Z",
     "shell.execute_reply": "2023-05-12T12:54:56.650127Z"
    },
    "papermill": {
     "duration": 0.074143,
     "end_time": "2023-05-12T12:54:56.654637",
     "exception": false,
     "start_time": "2023-05-12T12:54:56.580494",
     "status": "completed"
    },
    "tags": []
   },
   "outputs": [],
   "source": [
    "df=pd.read_csv(\"/kaggle/input/diet-plan-recommendation/Dataset.csv\")"
   ]
  },
  {
   "cell_type": "code",
   "execution_count": 3,
   "id": "9300d07f",
   "metadata": {
    "execution": {
     "iopub.execute_input": "2023-05-12T12:54:56.675352Z",
     "iopub.status.busy": "2023-05-12T12:54:56.674720Z",
     "iopub.status.idle": "2023-05-12T12:54:56.725780Z",
     "shell.execute_reply": "2023-05-12T12:54:56.724448Z"
    },
    "papermill": {
     "duration": 0.064932,
     "end_time": "2023-05-12T12:54:56.728378",
     "exception": false,
     "start_time": "2023-05-12T12:54:56.663446",
     "status": "completed"
    },
    "tags": []
   },
   "outputs": [
    {
     "data": {
      "text/html": [
       "<div>\n",
       "<style scoped>\n",
       "    .dataframe tbody tr th:only-of-type {\n",
       "        vertical-align: middle;\n",
       "    }\n",
       "\n",
       "    .dataframe tbody tr th {\n",
       "        vertical-align: top;\n",
       "    }\n",
       "\n",
       "    .dataframe thead th {\n",
       "        text-align: right;\n",
       "    }\n",
       "</style>\n",
       "<table border=\"1\" class=\"dataframe\">\n",
       "  <thead>\n",
       "    <tr style=\"text-align: right;\">\n",
       "      <th></th>\n",
       "      <th>Unnamed: 0</th>\n",
       "      <th>age</th>\n",
       "      <th>weight(kg)</th>\n",
       "      <th>height(m)</th>\n",
       "      <th>gender</th>\n",
       "      <th>BMI</th>\n",
       "      <th>BMR</th>\n",
       "      <th>activity_level</th>\n",
       "      <th>calories_to_maintain_weight</th>\n",
       "      <th>BMI_tags</th>\n",
       "      <th>Label</th>\n",
       "    </tr>\n",
       "  </thead>\n",
       "  <tbody>\n",
       "    <tr>\n",
       "      <th>0</th>\n",
       "      <td>1</td>\n",
       "      <td>2</td>\n",
       "      <td>16.097862</td>\n",
       "      <td>0.932025</td>\n",
       "      <td>F</td>\n",
       "      <td>18.531612</td>\n",
       "      <td>958.584</td>\n",
       "      <td>1.2</td>\n",
       "      <td>1150.3008</td>\n",
       "      <td>8</td>\n",
       "      <td>13</td>\n",
       "    </tr>\n",
       "    <tr>\n",
       "      <th>1</th>\n",
       "      <td>2</td>\n",
       "      <td>4</td>\n",
       "      <td>14.619374</td>\n",
       "      <td>0.916687</td>\n",
       "      <td>F</td>\n",
       "      <td>17.397496</td>\n",
       "      <td>932.383</td>\n",
       "      <td>1.7</td>\n",
       "      <td>1585.0511</td>\n",
       "      <td>7</td>\n",
       "      <td>1</td>\n",
       "    </tr>\n",
       "    <tr>\n",
       "      <th>2</th>\n",
       "      <td>4</td>\n",
       "      <td>4</td>\n",
       "      <td>17.899918</td>\n",
       "      <td>0.997288</td>\n",
       "      <td>F</td>\n",
       "      <td>17.997414</td>\n",
       "      <td>977.578</td>\n",
       "      <td>1.9</td>\n",
       "      <td>1857.3982</td>\n",
       "      <td>7</td>\n",
       "      <td>4</td>\n",
       "    </tr>\n",
       "    <tr>\n",
       "      <th>3</th>\n",
       "      <td>6</td>\n",
       "      <td>3</td>\n",
       "      <td>13.532880</td>\n",
       "      <td>1.022786</td>\n",
       "      <td>F</td>\n",
       "      <td>12.936609</td>\n",
       "      <td>944.689</td>\n",
       "      <td>1.9</td>\n",
       "      <td>1794.9091</td>\n",
       "      <td>7</td>\n",
       "      <td>3</td>\n",
       "    </tr>\n",
       "    <tr>\n",
       "      <th>4</th>\n",
       "      <td>8</td>\n",
       "      <td>4</td>\n",
       "      <td>17.039484</td>\n",
       "      <td>1.053977</td>\n",
       "      <td>M</td>\n",
       "      <td>15.338909</td>\n",
       "      <td>799.229</td>\n",
       "      <td>1.9</td>\n",
       "      <td>1518.5351</td>\n",
       "      <td>7</td>\n",
       "      <td>0</td>\n",
       "    </tr>\n",
       "    <tr>\n",
       "      <th>...</th>\n",
       "      <td>...</td>\n",
       "      <td>...</td>\n",
       "      <td>...</td>\n",
       "      <td>...</td>\n",
       "      <td>...</td>\n",
       "      <td>...</td>\n",
       "      <td>...</td>\n",
       "      <td>...</td>\n",
       "      <td>...</td>\n",
       "      <td>...</td>\n",
       "      <td>...</td>\n",
       "    </tr>\n",
       "    <tr>\n",
       "      <th>10721</th>\n",
       "      <td>23986</td>\n",
       "      <td>72</td>\n",
       "      <td>95.444236</td>\n",
       "      <td>1.631113</td>\n",
       "      <td>F</td>\n",
       "      <td>35.874169</td>\n",
       "      <td>1510.154</td>\n",
       "      <td>1.3</td>\n",
       "      <td>1963.2002</td>\n",
       "      <td>9</td>\n",
       "      <td>26</td>\n",
       "    </tr>\n",
       "    <tr>\n",
       "      <th>10722</th>\n",
       "      <td>23988</td>\n",
       "      <td>85</td>\n",
       "      <td>97.976899</td>\n",
       "      <td>1.631409</td>\n",
       "      <td>F</td>\n",
       "      <td>36.812724</td>\n",
       "      <td>1473.418</td>\n",
       "      <td>1.7</td>\n",
       "      <td>2504.8106</td>\n",
       "      <td>9</td>\n",
       "      <td>30</td>\n",
       "    </tr>\n",
       "    <tr>\n",
       "      <th>10723</th>\n",
       "      <td>23994</td>\n",
       "      <td>50</td>\n",
       "      <td>97.761259</td>\n",
       "      <td>1.631864</td>\n",
       "      <td>F</td>\n",
       "      <td>36.711217</td>\n",
       "      <td>1635.925</td>\n",
       "      <td>1.7</td>\n",
       "      <td>2781.0725</td>\n",
       "      <td>9</td>\n",
       "      <td>31</td>\n",
       "    </tr>\n",
       "    <tr>\n",
       "      <th>10724</th>\n",
       "      <td>23997</td>\n",
       "      <td>57</td>\n",
       "      <td>96.829324</td>\n",
       "      <td>1.631290</td>\n",
       "      <td>F</td>\n",
       "      <td>36.386871</td>\n",
       "      <td>1593.981</td>\n",
       "      <td>1.3</td>\n",
       "      <td>2072.1753</td>\n",
       "      <td>9</td>\n",
       "      <td>27</td>\n",
       "    </tr>\n",
       "    <tr>\n",
       "      <th>10725</th>\n",
       "      <td>23998</td>\n",
       "      <td>63</td>\n",
       "      <td>97.615186</td>\n",
       "      <td>1.633168</td>\n",
       "      <td>M</td>\n",
       "      <td>36.597850</td>\n",
       "      <td>1791.512</td>\n",
       "      <td>1.2</td>\n",
       "      <td>2149.8144</td>\n",
       "      <td>9</td>\n",
       "      <td>27</td>\n",
       "    </tr>\n",
       "  </tbody>\n",
       "</table>\n",
       "<p>10726 rows × 11 columns</p>\n",
       "</div>"
      ],
      "text/plain": [
       "       Unnamed: 0  age  weight(kg)  height(m) gender        BMI       BMR  \\\n",
       "0               1    2   16.097862   0.932025      F  18.531612   958.584   \n",
       "1               2    4   14.619374   0.916687      F  17.397496   932.383   \n",
       "2               4    4   17.899918   0.997288      F  17.997414   977.578   \n",
       "3               6    3   13.532880   1.022786      F  12.936609   944.689   \n",
       "4               8    4   17.039484   1.053977      M  15.338909   799.229   \n",
       "...           ...  ...         ...        ...    ...        ...       ...   \n",
       "10721       23986   72   95.444236   1.631113      F  35.874169  1510.154   \n",
       "10722       23988   85   97.976899   1.631409      F  36.812724  1473.418   \n",
       "10723       23994   50   97.761259   1.631864      F  36.711217  1635.925   \n",
       "10724       23997   57   96.829324   1.631290      F  36.386871  1593.981   \n",
       "10725       23998   63   97.615186   1.633168      M  36.597850  1791.512   \n",
       "\n",
       "       activity_level  calories_to_maintain_weight  BMI_tags  Label  \n",
       "0                 1.2                    1150.3008         8     13  \n",
       "1                 1.7                    1585.0511         7      1  \n",
       "2                 1.9                    1857.3982         7      4  \n",
       "3                 1.9                    1794.9091         7      3  \n",
       "4                 1.9                    1518.5351         7      0  \n",
       "...               ...                          ...       ...    ...  \n",
       "10721             1.3                    1963.2002         9     26  \n",
       "10722             1.7                    2504.8106         9     30  \n",
       "10723             1.7                    2781.0725         9     31  \n",
       "10724             1.3                    2072.1753         9     27  \n",
       "10725             1.2                    2149.8144         9     27  \n",
       "\n",
       "[10726 rows x 11 columns]"
      ]
     },
     "execution_count": 3,
     "metadata": {},
     "output_type": "execute_result"
    }
   ],
   "source": [
    "df"
   ]
  },
  {
   "cell_type": "code",
   "execution_count": 4,
   "id": "06fb1ca7",
   "metadata": {
    "execution": {
     "iopub.execute_input": "2023-05-12T12:54:56.745464Z",
     "iopub.status.busy": "2023-05-12T12:54:56.745097Z",
     "iopub.status.idle": "2023-05-12T12:54:56.765121Z",
     "shell.execute_reply": "2023-05-12T12:54:56.764169Z"
    },
    "papermill": {
     "duration": 0.031139,
     "end_time": "2023-05-12T12:54:56.767296",
     "exception": false,
     "start_time": "2023-05-12T12:54:56.736157",
     "status": "completed"
    },
    "tags": []
   },
   "outputs": [
    {
     "data": {
      "text/html": [
       "<div>\n",
       "<style scoped>\n",
       "    .dataframe tbody tr th:only-of-type {\n",
       "        vertical-align: middle;\n",
       "    }\n",
       "\n",
       "    .dataframe tbody tr th {\n",
       "        vertical-align: top;\n",
       "    }\n",
       "\n",
       "    .dataframe thead th {\n",
       "        text-align: right;\n",
       "    }\n",
       "</style>\n",
       "<table border=\"1\" class=\"dataframe\">\n",
       "  <thead>\n",
       "    <tr style=\"text-align: right;\">\n",
       "      <th></th>\n",
       "      <th>age</th>\n",
       "      <th>weight(kg)</th>\n",
       "      <th>height(m)</th>\n",
       "      <th>gender</th>\n",
       "      <th>BMI</th>\n",
       "      <th>BMR</th>\n",
       "    </tr>\n",
       "  </thead>\n",
       "  <tbody>\n",
       "    <tr>\n",
       "      <th>0</th>\n",
       "      <td>2</td>\n",
       "      <td>16.097862</td>\n",
       "      <td>0.932025</td>\n",
       "      <td>F</td>\n",
       "      <td>18.531612</td>\n",
       "      <td>958.584</td>\n",
       "    </tr>\n",
       "    <tr>\n",
       "      <th>1</th>\n",
       "      <td>4</td>\n",
       "      <td>14.619374</td>\n",
       "      <td>0.916687</td>\n",
       "      <td>F</td>\n",
       "      <td>17.397496</td>\n",
       "      <td>932.383</td>\n",
       "    </tr>\n",
       "    <tr>\n",
       "      <th>2</th>\n",
       "      <td>4</td>\n",
       "      <td>17.899918</td>\n",
       "      <td>0.997288</td>\n",
       "      <td>F</td>\n",
       "      <td>17.997414</td>\n",
       "      <td>977.578</td>\n",
       "    </tr>\n",
       "    <tr>\n",
       "      <th>3</th>\n",
       "      <td>3</td>\n",
       "      <td>13.532880</td>\n",
       "      <td>1.022786</td>\n",
       "      <td>F</td>\n",
       "      <td>12.936609</td>\n",
       "      <td>944.689</td>\n",
       "    </tr>\n",
       "    <tr>\n",
       "      <th>4</th>\n",
       "      <td>4</td>\n",
       "      <td>17.039484</td>\n",
       "      <td>1.053977</td>\n",
       "      <td>M</td>\n",
       "      <td>15.338909</td>\n",
       "      <td>799.229</td>\n",
       "    </tr>\n",
       "    <tr>\n",
       "      <th>...</th>\n",
       "      <td>...</td>\n",
       "      <td>...</td>\n",
       "      <td>...</td>\n",
       "      <td>...</td>\n",
       "      <td>...</td>\n",
       "      <td>...</td>\n",
       "    </tr>\n",
       "    <tr>\n",
       "      <th>10721</th>\n",
       "      <td>72</td>\n",
       "      <td>95.444236</td>\n",
       "      <td>1.631113</td>\n",
       "      <td>F</td>\n",
       "      <td>35.874169</td>\n",
       "      <td>1510.154</td>\n",
       "    </tr>\n",
       "    <tr>\n",
       "      <th>10722</th>\n",
       "      <td>85</td>\n",
       "      <td>97.976899</td>\n",
       "      <td>1.631409</td>\n",
       "      <td>F</td>\n",
       "      <td>36.812724</td>\n",
       "      <td>1473.418</td>\n",
       "    </tr>\n",
       "    <tr>\n",
       "      <th>10723</th>\n",
       "      <td>50</td>\n",
       "      <td>97.761259</td>\n",
       "      <td>1.631864</td>\n",
       "      <td>F</td>\n",
       "      <td>36.711217</td>\n",
       "      <td>1635.925</td>\n",
       "    </tr>\n",
       "    <tr>\n",
       "      <th>10724</th>\n",
       "      <td>57</td>\n",
       "      <td>96.829324</td>\n",
       "      <td>1.631290</td>\n",
       "      <td>F</td>\n",
       "      <td>36.386871</td>\n",
       "      <td>1593.981</td>\n",
       "    </tr>\n",
       "    <tr>\n",
       "      <th>10725</th>\n",
       "      <td>63</td>\n",
       "      <td>97.615186</td>\n",
       "      <td>1.633168</td>\n",
       "      <td>M</td>\n",
       "      <td>36.597850</td>\n",
       "      <td>1791.512</td>\n",
       "    </tr>\n",
       "  </tbody>\n",
       "</table>\n",
       "<p>10726 rows × 6 columns</p>\n",
       "</div>"
      ],
      "text/plain": [
       "       age  weight(kg)  height(m) gender        BMI       BMR\n",
       "0        2   16.097862   0.932025      F  18.531612   958.584\n",
       "1        4   14.619374   0.916687      F  17.397496   932.383\n",
       "2        4   17.899918   0.997288      F  17.997414   977.578\n",
       "3        3   13.532880   1.022786      F  12.936609   944.689\n",
       "4        4   17.039484   1.053977      M  15.338909   799.229\n",
       "...    ...         ...        ...    ...        ...       ...\n",
       "10721   72   95.444236   1.631113      F  35.874169  1510.154\n",
       "10722   85   97.976899   1.631409      F  36.812724  1473.418\n",
       "10723   50   97.761259   1.631864      F  36.711217  1635.925\n",
       "10724   57   96.829324   1.631290      F  36.386871  1593.981\n",
       "10725   63   97.615186   1.633168      M  36.597850  1791.512\n",
       "\n",
       "[10726 rows x 6 columns]"
      ]
     },
     "execution_count": 4,
     "metadata": {},
     "output_type": "execute_result"
    }
   ],
   "source": [
    "new=[\"age\",\"weight(kg)\",\"height(m)\",\"gender\",\"BMI\",\"BMR\"]\n",
    "df1=df[new]\n",
    "df1"
   ]
  },
  {
   "cell_type": "code",
   "execution_count": 5,
   "id": "fdd580c8",
   "metadata": {
    "execution": {
     "iopub.execute_input": "2023-05-12T12:54:56.787158Z",
     "iopub.status.busy": "2023-05-12T12:54:56.785680Z",
     "iopub.status.idle": "2023-05-12T12:54:58.073814Z",
     "shell.execute_reply": "2023-05-12T12:54:58.072857Z"
    },
    "papermill": {
     "duration": 1.301927,
     "end_time": "2023-05-12T12:54:58.077386",
     "exception": false,
     "start_time": "2023-05-12T12:54:56.775459",
     "status": "completed"
    },
    "tags": []
   },
   "outputs": [
    {
     "name": "stderr",
     "output_type": "stream",
     "text": [
      "/opt/conda/lib/python3.10/site-packages/scipy/__init__.py:146: UserWarning: A NumPy version >=1.16.5 and <1.23.0 is required for this version of SciPy (detected version 1.23.5\n",
      "  warnings.warn(f\"A NumPy version >={np_minversion} and <{np_maxversion}\"\n"
     ]
    }
   ],
   "source": [
    "from sklearn.preprocessing import LabelEncoder"
   ]
  },
  {
   "cell_type": "code",
   "execution_count": 6,
   "id": "b0fba680",
   "metadata": {
    "execution": {
     "iopub.execute_input": "2023-05-12T12:54:58.100245Z",
     "iopub.status.busy": "2023-05-12T12:54:58.099402Z",
     "iopub.status.idle": "2023-05-12T12:54:58.104805Z",
     "shell.execute_reply": "2023-05-12T12:54:58.103685Z"
    },
    "papermill": {
     "duration": 0.01829,
     "end_time": "2023-05-12T12:54:58.107416",
     "exception": false,
     "start_time": "2023-05-12T12:54:58.089126",
     "status": "completed"
    },
    "tags": []
   },
   "outputs": [],
   "source": [
    "le=LabelEncoder()"
   ]
  },
  {
   "cell_type": "code",
   "execution_count": 7,
   "id": "2fbe6d8c",
   "metadata": {
    "execution": {
     "iopub.execute_input": "2023-05-12T12:54:58.127004Z",
     "iopub.status.busy": "2023-05-12T12:54:58.126220Z",
     "iopub.status.idle": "2023-05-12T12:54:58.153529Z",
     "shell.execute_reply": "2023-05-12T12:54:58.152296Z"
    },
    "papermill": {
     "duration": 0.040557,
     "end_time": "2023-05-12T12:54:58.156550",
     "exception": false,
     "start_time": "2023-05-12T12:54:58.115993",
     "status": "completed"
    },
    "tags": []
   },
   "outputs": [
    {
     "name": "stderr",
     "output_type": "stream",
     "text": [
      "/tmp/ipykernel_20/1371436342.py:1: SettingWithCopyWarning: \n",
      "A value is trying to be set on a copy of a slice from a DataFrame.\n",
      "Try using .loc[row_indexer,col_indexer] = value instead\n",
      "\n",
      "See the caveats in the documentation: https://pandas.pydata.org/pandas-docs/stable/user_guide/indexing.html#returning-a-view-versus-a-copy\n",
      "  df1[\"le_age\"]=le.fit_transform(df1[\"age\"])\n",
      "/tmp/ipykernel_20/1371436342.py:2: SettingWithCopyWarning: \n",
      "A value is trying to be set on a copy of a slice from a DataFrame.\n",
      "Try using .loc[row_indexer,col_indexer] = value instead\n",
      "\n",
      "See the caveats in the documentation: https://pandas.pydata.org/pandas-docs/stable/user_guide/indexing.html#returning-a-view-versus-a-copy\n",
      "  df1[\"le_weight\"]=le.fit_transform(df1[\"weight(kg)\"])\n",
      "/tmp/ipykernel_20/1371436342.py:3: SettingWithCopyWarning: \n",
      "A value is trying to be set on a copy of a slice from a DataFrame.\n",
      "Try using .loc[row_indexer,col_indexer] = value instead\n",
      "\n",
      "See the caveats in the documentation: https://pandas.pydata.org/pandas-docs/stable/user_guide/indexing.html#returning-a-view-versus-a-copy\n",
      "  df1[\"le_height\"]=le.fit_transform(df1[\"height(m)\"])\n",
      "/tmp/ipykernel_20/1371436342.py:4: SettingWithCopyWarning: \n",
      "A value is trying to be set on a copy of a slice from a DataFrame.\n",
      "Try using .loc[row_indexer,col_indexer] = value instead\n",
      "\n",
      "See the caveats in the documentation: https://pandas.pydata.org/pandas-docs/stable/user_guide/indexing.html#returning-a-view-versus-a-copy\n",
      "  df1[\"le_gender\"]=le.fit_transform(df1[\"gender\"])\n"
     ]
    }
   ],
   "source": [
    "df1[\"le_age\"]=le.fit_transform(df1[\"age\"])\n",
    "df1[\"le_weight\"]=le.fit_transform(df1[\"weight(kg)\"])\n",
    "df1[\"le_height\"]=le.fit_transform(df1[\"height(m)\"])\n",
    "df1[\"le_gender\"]=le.fit_transform(df1[\"gender\"])\n",
    "df1[\"le_bmi\"]=le.fit_transform(df1[\"BMI\"])\n",
    "df1[\"le_bmr\"]=le.fit_transform(df1[\"BMR\"])"
   ]
  },
  {
   "cell_type": "code",
   "execution_count": 8,
   "id": "1b699c44",
   "metadata": {
    "execution": {
     "iopub.execute_input": "2023-05-12T12:54:58.181044Z",
     "iopub.status.busy": "2023-05-12T12:54:58.180086Z",
     "iopub.status.idle": "2023-05-12T12:54:58.204616Z",
     "shell.execute_reply": "2023-05-12T12:54:58.203481Z"
    },
    "papermill": {
     "duration": 0.038781,
     "end_time": "2023-05-12T12:54:58.207881",
     "exception": false,
     "start_time": "2023-05-12T12:54:58.169100",
     "status": "completed"
    },
    "tags": []
   },
   "outputs": [
    {
     "data": {
      "text/html": [
       "<div>\n",
       "<style scoped>\n",
       "    .dataframe tbody tr th:only-of-type {\n",
       "        vertical-align: middle;\n",
       "    }\n",
       "\n",
       "    .dataframe tbody tr th {\n",
       "        vertical-align: top;\n",
       "    }\n",
       "\n",
       "    .dataframe thead th {\n",
       "        text-align: right;\n",
       "    }\n",
       "</style>\n",
       "<table border=\"1\" class=\"dataframe\">\n",
       "  <thead>\n",
       "    <tr style=\"text-align: right;\">\n",
       "      <th></th>\n",
       "      <th>age</th>\n",
       "      <th>weight(kg)</th>\n",
       "      <th>height(m)</th>\n",
       "      <th>gender</th>\n",
       "      <th>BMI</th>\n",
       "      <th>BMR</th>\n",
       "      <th>le_age</th>\n",
       "      <th>le_weight</th>\n",
       "      <th>le_height</th>\n",
       "      <th>le_gender</th>\n",
       "      <th>le_bmi</th>\n",
       "      <th>le_bmr</th>\n",
       "    </tr>\n",
       "  </thead>\n",
       "  <tbody>\n",
       "    <tr>\n",
       "      <th>0</th>\n",
       "      <td>2</td>\n",
       "      <td>16.097862</td>\n",
       "      <td>0.932025</td>\n",
       "      <td>F</td>\n",
       "      <td>18.531612</td>\n",
       "      <td>958.584</td>\n",
       "      <td>0</td>\n",
       "      <td>358</td>\n",
       "      <td>272</td>\n",
       "      <td>0</td>\n",
       "      <td>2054</td>\n",
       "      <td>635</td>\n",
       "    </tr>\n",
       "    <tr>\n",
       "      <th>1</th>\n",
       "      <td>4</td>\n",
       "      <td>14.619374</td>\n",
       "      <td>0.916687</td>\n",
       "      <td>F</td>\n",
       "      <td>17.397496</td>\n",
       "      <td>932.383</td>\n",
       "      <td>2</td>\n",
       "      <td>187</td>\n",
       "      <td>222</td>\n",
       "      <td>0</td>\n",
       "      <td>1575</td>\n",
       "      <td>336</td>\n",
       "    </tr>\n",
       "    <tr>\n",
       "      <th>2</th>\n",
       "      <td>4</td>\n",
       "      <td>17.899918</td>\n",
       "      <td>0.997288</td>\n",
       "      <td>F</td>\n",
       "      <td>17.997414</td>\n",
       "      <td>977.578</td>\n",
       "      <td>2</td>\n",
       "      <td>637</td>\n",
       "      <td>417</td>\n",
       "      <td>0</td>\n",
       "      <td>1773</td>\n",
       "      <td>855</td>\n",
       "    </tr>\n",
       "    <tr>\n",
       "      <th>3</th>\n",
       "      <td>3</td>\n",
       "      <td>13.532880</td>\n",
       "      <td>1.022786</td>\n",
       "      <td>F</td>\n",
       "      <td>12.936609</td>\n",
       "      <td>944.689</td>\n",
       "      <td>1</td>\n",
       "      <td>102</td>\n",
       "      <td>480</td>\n",
       "      <td>0</td>\n",
       "      <td>152</td>\n",
       "      <td>458</td>\n",
       "    </tr>\n",
       "    <tr>\n",
       "      <th>4</th>\n",
       "      <td>4</td>\n",
       "      <td>17.039484</td>\n",
       "      <td>1.053977</td>\n",
       "      <td>M</td>\n",
       "      <td>15.338909</td>\n",
       "      <td>799.229</td>\n",
       "      <td>2</td>\n",
       "      <td>496</td>\n",
       "      <td>561</td>\n",
       "      <td>1</td>\n",
       "      <td>759</td>\n",
       "      <td>118</td>\n",
       "    </tr>\n",
       "    <tr>\n",
       "      <th>...</th>\n",
       "      <td>...</td>\n",
       "      <td>...</td>\n",
       "      <td>...</td>\n",
       "      <td>...</td>\n",
       "      <td>...</td>\n",
       "      <td>...</td>\n",
       "      <td>...</td>\n",
       "      <td>...</td>\n",
       "      <td>...</td>\n",
       "      <td>...</td>\n",
       "      <td>...</td>\n",
       "      <td>...</td>\n",
       "    </tr>\n",
       "    <tr>\n",
       "      <th>10721</th>\n",
       "      <td>72</td>\n",
       "      <td>95.444236</td>\n",
       "      <td>1.631113</td>\n",
       "      <td>F</td>\n",
       "      <td>35.874169</td>\n",
       "      <td>1510.154</td>\n",
       "      <td>70</td>\n",
       "      <td>9819</td>\n",
       "      <td>4931</td>\n",
       "      <td>0</td>\n",
       "      <td>9852</td>\n",
       "      <td>5658</td>\n",
       "    </tr>\n",
       "    <tr>\n",
       "      <th>10722</th>\n",
       "      <td>85</td>\n",
       "      <td>97.976899</td>\n",
       "      <td>1.631409</td>\n",
       "      <td>F</td>\n",
       "      <td>36.812724</td>\n",
       "      <td>1473.418</td>\n",
       "      <td>83</td>\n",
       "      <td>10507</td>\n",
       "      <td>5715</td>\n",
       "      <td>0</td>\n",
       "      <td>10528</td>\n",
       "      <td>4971</td>\n",
       "    </tr>\n",
       "    <tr>\n",
       "      <th>10723</th>\n",
       "      <td>50</td>\n",
       "      <td>97.761259</td>\n",
       "      <td>1.631864</td>\n",
       "      <td>F</td>\n",
       "      <td>36.711217</td>\n",
       "      <td>1635.925</td>\n",
       "      <td>48</td>\n",
       "      <td>10443</td>\n",
       "      <td>7029</td>\n",
       "      <td>0</td>\n",
       "      <td>10451</td>\n",
       "      <td>8801</td>\n",
       "    </tr>\n",
       "    <tr>\n",
       "      <th>10724</th>\n",
       "      <td>57</td>\n",
       "      <td>96.829324</td>\n",
       "      <td>1.631290</td>\n",
       "      <td>F</td>\n",
       "      <td>36.386871</td>\n",
       "      <td>1593.981</td>\n",
       "      <td>55</td>\n",
       "      <td>10185</td>\n",
       "      <td>5376</td>\n",
       "      <td>0</td>\n",
       "      <td>10206</td>\n",
       "      <td>7834</td>\n",
       "    </tr>\n",
       "    <tr>\n",
       "      <th>10725</th>\n",
       "      <td>63</td>\n",
       "      <td>97.615186</td>\n",
       "      <td>1.633168</td>\n",
       "      <td>M</td>\n",
       "      <td>36.597850</td>\n",
       "      <td>1791.512</td>\n",
       "      <td>61</td>\n",
       "      <td>10390</td>\n",
       "      <td>10594</td>\n",
       "      <td>1</td>\n",
       "      <td>10358</td>\n",
       "      <td>9812</td>\n",
       "    </tr>\n",
       "  </tbody>\n",
       "</table>\n",
       "<p>10726 rows × 12 columns</p>\n",
       "</div>"
      ],
      "text/plain": [
       "       age  weight(kg)  height(m) gender        BMI       BMR  le_age  \\\n",
       "0        2   16.097862   0.932025      F  18.531612   958.584       0   \n",
       "1        4   14.619374   0.916687      F  17.397496   932.383       2   \n",
       "2        4   17.899918   0.997288      F  17.997414   977.578       2   \n",
       "3        3   13.532880   1.022786      F  12.936609   944.689       1   \n",
       "4        4   17.039484   1.053977      M  15.338909   799.229       2   \n",
       "...    ...         ...        ...    ...        ...       ...     ...   \n",
       "10721   72   95.444236   1.631113      F  35.874169  1510.154      70   \n",
       "10722   85   97.976899   1.631409      F  36.812724  1473.418      83   \n",
       "10723   50   97.761259   1.631864      F  36.711217  1635.925      48   \n",
       "10724   57   96.829324   1.631290      F  36.386871  1593.981      55   \n",
       "10725   63   97.615186   1.633168      M  36.597850  1791.512      61   \n",
       "\n",
       "       le_weight  le_height  le_gender  le_bmi  le_bmr  \n",
       "0            358        272          0    2054     635  \n",
       "1            187        222          0    1575     336  \n",
       "2            637        417          0    1773     855  \n",
       "3            102        480          0     152     458  \n",
       "4            496        561          1     759     118  \n",
       "...          ...        ...        ...     ...     ...  \n",
       "10721       9819       4931          0    9852    5658  \n",
       "10722      10507       5715          0   10528    4971  \n",
       "10723      10443       7029          0   10451    8801  \n",
       "10724      10185       5376          0   10206    7834  \n",
       "10725      10390      10594          1   10358    9812  \n",
       "\n",
       "[10726 rows x 12 columns]"
      ]
     },
     "execution_count": 8,
     "metadata": {},
     "output_type": "execute_result"
    }
   ],
   "source": [
    "df1"
   ]
  },
  {
   "cell_type": "code",
   "execution_count": 9,
   "id": "46b51e16",
   "metadata": {
    "execution": {
     "iopub.execute_input": "2023-05-12T12:54:58.228682Z",
     "iopub.status.busy": "2023-05-12T12:54:58.227783Z",
     "iopub.status.idle": "2023-05-12T12:54:58.235180Z",
     "shell.execute_reply": "2023-05-12T12:54:58.234049Z"
    },
    "papermill": {
     "duration": 0.020842,
     "end_time": "2023-05-12T12:54:58.237771",
     "exception": false,
     "start_time": "2023-05-12T12:54:58.216929",
     "status": "completed"
    },
    "tags": []
   },
   "outputs": [],
   "source": [
    "df_new=df1.drop(new,axis=1)"
   ]
  },
  {
   "cell_type": "code",
   "execution_count": 10,
   "id": "f1aae15d",
   "metadata": {
    "execution": {
     "iopub.execute_input": "2023-05-12T12:54:58.258974Z",
     "iopub.status.busy": "2023-05-12T12:54:58.257949Z",
     "iopub.status.idle": "2023-05-12T12:54:58.273346Z",
     "shell.execute_reply": "2023-05-12T12:54:58.272445Z"
    },
    "papermill": {
     "duration": 0.029658,
     "end_time": "2023-05-12T12:54:58.276616",
     "exception": false,
     "start_time": "2023-05-12T12:54:58.246958",
     "status": "completed"
    },
    "tags": []
   },
   "outputs": [
    {
     "data": {
      "text/html": [
       "<div>\n",
       "<style scoped>\n",
       "    .dataframe tbody tr th:only-of-type {\n",
       "        vertical-align: middle;\n",
       "    }\n",
       "\n",
       "    .dataframe tbody tr th {\n",
       "        vertical-align: top;\n",
       "    }\n",
       "\n",
       "    .dataframe thead th {\n",
       "        text-align: right;\n",
       "    }\n",
       "</style>\n",
       "<table border=\"1\" class=\"dataframe\">\n",
       "  <thead>\n",
       "    <tr style=\"text-align: right;\">\n",
       "      <th></th>\n",
       "      <th>le_age</th>\n",
       "      <th>le_weight</th>\n",
       "      <th>le_height</th>\n",
       "      <th>le_gender</th>\n",
       "      <th>le_bmi</th>\n",
       "      <th>le_bmr</th>\n",
       "    </tr>\n",
       "  </thead>\n",
       "  <tbody>\n",
       "    <tr>\n",
       "      <th>0</th>\n",
       "      <td>0</td>\n",
       "      <td>358</td>\n",
       "      <td>272</td>\n",
       "      <td>0</td>\n",
       "      <td>2054</td>\n",
       "      <td>635</td>\n",
       "    </tr>\n",
       "    <tr>\n",
       "      <th>1</th>\n",
       "      <td>2</td>\n",
       "      <td>187</td>\n",
       "      <td>222</td>\n",
       "      <td>0</td>\n",
       "      <td>1575</td>\n",
       "      <td>336</td>\n",
       "    </tr>\n",
       "    <tr>\n",
       "      <th>2</th>\n",
       "      <td>2</td>\n",
       "      <td>637</td>\n",
       "      <td>417</td>\n",
       "      <td>0</td>\n",
       "      <td>1773</td>\n",
       "      <td>855</td>\n",
       "    </tr>\n",
       "    <tr>\n",
       "      <th>3</th>\n",
       "      <td>1</td>\n",
       "      <td>102</td>\n",
       "      <td>480</td>\n",
       "      <td>0</td>\n",
       "      <td>152</td>\n",
       "      <td>458</td>\n",
       "    </tr>\n",
       "    <tr>\n",
       "      <th>4</th>\n",
       "      <td>2</td>\n",
       "      <td>496</td>\n",
       "      <td>561</td>\n",
       "      <td>1</td>\n",
       "      <td>759</td>\n",
       "      <td>118</td>\n",
       "    </tr>\n",
       "    <tr>\n",
       "      <th>...</th>\n",
       "      <td>...</td>\n",
       "      <td>...</td>\n",
       "      <td>...</td>\n",
       "      <td>...</td>\n",
       "      <td>...</td>\n",
       "      <td>...</td>\n",
       "    </tr>\n",
       "    <tr>\n",
       "      <th>10721</th>\n",
       "      <td>70</td>\n",
       "      <td>9819</td>\n",
       "      <td>4931</td>\n",
       "      <td>0</td>\n",
       "      <td>9852</td>\n",
       "      <td>5658</td>\n",
       "    </tr>\n",
       "    <tr>\n",
       "      <th>10722</th>\n",
       "      <td>83</td>\n",
       "      <td>10507</td>\n",
       "      <td>5715</td>\n",
       "      <td>0</td>\n",
       "      <td>10528</td>\n",
       "      <td>4971</td>\n",
       "    </tr>\n",
       "    <tr>\n",
       "      <th>10723</th>\n",
       "      <td>48</td>\n",
       "      <td>10443</td>\n",
       "      <td>7029</td>\n",
       "      <td>0</td>\n",
       "      <td>10451</td>\n",
       "      <td>8801</td>\n",
       "    </tr>\n",
       "    <tr>\n",
       "      <th>10724</th>\n",
       "      <td>55</td>\n",
       "      <td>10185</td>\n",
       "      <td>5376</td>\n",
       "      <td>0</td>\n",
       "      <td>10206</td>\n",
       "      <td>7834</td>\n",
       "    </tr>\n",
       "    <tr>\n",
       "      <th>10725</th>\n",
       "      <td>61</td>\n",
       "      <td>10390</td>\n",
       "      <td>10594</td>\n",
       "      <td>1</td>\n",
       "      <td>10358</td>\n",
       "      <td>9812</td>\n",
       "    </tr>\n",
       "  </tbody>\n",
       "</table>\n",
       "<p>10726 rows × 6 columns</p>\n",
       "</div>"
      ],
      "text/plain": [
       "       le_age  le_weight  le_height  le_gender  le_bmi  le_bmr\n",
       "0           0        358        272          0    2054     635\n",
       "1           2        187        222          0    1575     336\n",
       "2           2        637        417          0    1773     855\n",
       "3           1        102        480          0     152     458\n",
       "4           2        496        561          1     759     118\n",
       "...       ...        ...        ...        ...     ...     ...\n",
       "10721      70       9819       4931          0    9852    5658\n",
       "10722      83      10507       5715          0   10528    4971\n",
       "10723      48      10443       7029          0   10451    8801\n",
       "10724      55      10185       5376          0   10206    7834\n",
       "10725      61      10390      10594          1   10358    9812\n",
       "\n",
       "[10726 rows x 6 columns]"
      ]
     },
     "execution_count": 10,
     "metadata": {},
     "output_type": "execute_result"
    }
   ],
   "source": [
    "df_new"
   ]
  },
  {
   "cell_type": "code",
   "execution_count": 11,
   "id": "d60eb5d8",
   "metadata": {
    "execution": {
     "iopub.execute_input": "2023-05-12T12:54:58.300436Z",
     "iopub.status.busy": "2023-05-12T12:54:58.299714Z",
     "iopub.status.idle": "2023-05-12T12:54:58.438538Z",
     "shell.execute_reply": "2023-05-12T12:54:58.437401Z"
    },
    "papermill": {
     "duration": 0.153594,
     "end_time": "2023-05-12T12:54:58.442033",
     "exception": false,
     "start_time": "2023-05-12T12:54:58.288439",
     "status": "completed"
    },
    "tags": []
   },
   "outputs": [],
   "source": [
    "from sklearn.naive_bayes import GaussianNB\n",
    "from sklearn.model_selection import train_test_split"
   ]
  },
  {
   "cell_type": "code",
   "execution_count": 12,
   "id": "569bebb4",
   "metadata": {
    "execution": {
     "iopub.execute_input": "2023-05-12T12:54:58.468338Z",
     "iopub.status.busy": "2023-05-12T12:54:58.467538Z",
     "iopub.status.idle": "2023-05-12T12:54:58.477305Z",
     "shell.execute_reply": "2023-05-12T12:54:58.476400Z"
    },
    "papermill": {
     "duration": 0.023445,
     "end_time": "2023-05-12T12:54:58.479684",
     "exception": false,
     "start_time": "2023-05-12T12:54:58.456239",
     "status": "completed"
    },
    "tags": []
   },
   "outputs": [],
   "source": [
    "x_train,x_test,y_train,y_test=train_test_split(df_new,df[\"calories_to_maintain_weight\"],test_size=0.2,random_state=42)"
   ]
  },
  {
   "cell_type": "code",
   "execution_count": 13,
   "id": "b343a12d",
   "metadata": {
    "execution": {
     "iopub.execute_input": "2023-05-12T12:54:58.499716Z",
     "iopub.status.busy": "2023-05-12T12:54:58.498915Z",
     "iopub.status.idle": "2023-05-12T12:54:58.505464Z",
     "shell.execute_reply": "2023-05-12T12:54:58.504597Z"
    },
    "papermill": {
     "duration": 0.019078,
     "end_time": "2023-05-12T12:54:58.507619",
     "exception": false,
     "start_time": "2023-05-12T12:54:58.488541",
     "status": "completed"
    },
    "tags": []
   },
   "outputs": [
    {
     "data": {
      "text/plain": [
       "8580"
      ]
     },
     "execution_count": 13,
     "metadata": {},
     "output_type": "execute_result"
    }
   ],
   "source": [
    "len(x_train)"
   ]
  },
  {
   "cell_type": "code",
   "execution_count": 14,
   "id": "0cac8a23",
   "metadata": {
    "execution": {
     "iopub.execute_input": "2023-05-12T12:54:58.529483Z",
     "iopub.status.busy": "2023-05-12T12:54:58.528679Z",
     "iopub.status.idle": "2023-05-12T12:54:58.534038Z",
     "shell.execute_reply": "2023-05-12T12:54:58.533216Z"
    },
    "papermill": {
     "duration": 0.019041,
     "end_time": "2023-05-12T12:54:58.536348",
     "exception": false,
     "start_time": "2023-05-12T12:54:58.517307",
     "status": "completed"
    },
    "tags": []
   },
   "outputs": [],
   "source": [
    "gnb=GaussianNB()\n",
    "len(y_train)\n",
    "y_train = y_train.astype(int)"
   ]
  },
  {
   "cell_type": "code",
   "execution_count": 15,
   "id": "9e21a177",
   "metadata": {
    "execution": {
     "iopub.execute_input": "2023-05-12T12:54:58.556897Z",
     "iopub.status.busy": "2023-05-12T12:54:58.556126Z",
     "iopub.status.idle": "2023-05-12T12:54:58.657327Z",
     "shell.execute_reply": "2023-05-12T12:54:58.656293Z"
    },
    "papermill": {
     "duration": 0.114327,
     "end_time": "2023-05-12T12:54:58.659894",
     "exception": false,
     "start_time": "2023-05-12T12:54:58.545567",
     "status": "completed"
    },
    "tags": []
   },
   "outputs": [],
   "source": [
    "model=gnb.fit(x_train,y_train)"
   ]
  },
  {
   "cell_type": "code",
   "execution_count": 16,
   "id": "d81e3f28",
   "metadata": {
    "execution": {
     "iopub.execute_input": "2023-05-12T12:54:58.681580Z",
     "iopub.status.busy": "2023-05-12T12:54:58.680896Z",
     "iopub.status.idle": "2023-05-12T12:54:58.840202Z",
     "shell.execute_reply": "2023-05-12T12:54:58.838918Z"
    },
    "papermill": {
     "duration": 0.173539,
     "end_time": "2023-05-12T12:54:58.843034",
     "exception": false,
     "start_time": "2023-05-12T12:54:58.669495",
     "status": "completed"
    },
    "tags": []
   },
   "outputs": [],
   "source": [
    "y_pred=model.predict(x_test)\n",
    "y_pred\n",
    "y_test_pred=le.fit_transform(y_test)"
   ]
  },
  {
   "cell_type": "code",
   "execution_count": 17,
   "id": "f7e6b8a3",
   "metadata": {
    "execution": {
     "iopub.execute_input": "2023-05-12T12:54:58.864150Z",
     "iopub.status.busy": "2023-05-12T12:54:58.863733Z",
     "iopub.status.idle": "2023-05-12T12:54:58.870228Z",
     "shell.execute_reply": "2023-05-12T12:54:58.869011Z"
    },
    "papermill": {
     "duration": 0.019838,
     "end_time": "2023-05-12T12:54:58.872609",
     "exception": false,
     "start_time": "2023-05-12T12:54:58.852771",
     "status": "completed"
    },
    "tags": []
   },
   "outputs": [],
   "source": [
    "from sklearn.metrics import accuracy_score"
   ]
  },
  {
   "cell_type": "code",
   "execution_count": 18,
   "id": "14aaaa83",
   "metadata": {
    "execution": {
     "iopub.execute_input": "2023-05-12T12:54:58.896479Z",
     "iopub.status.busy": "2023-05-12T12:54:58.896072Z",
     "iopub.status.idle": "2023-05-12T12:54:58.904497Z",
     "shell.execute_reply": "2023-05-12T12:54:58.902647Z"
    },
    "papermill": {
     "duration": 0.022686,
     "end_time": "2023-05-12T12:54:58.906761",
     "exception": false,
     "start_time": "2023-05-12T12:54:58.884075",
     "status": "completed"
    },
    "tags": []
   },
   "outputs": [
    {
     "name": "stdout",
     "output_type": "stream",
     "text": [
      "0.0\n"
     ]
    }
   ],
   "source": [
    "print(accuracy_score(y_pred,y_test_pred))"
   ]
  },
  {
   "cell_type": "code",
   "execution_count": 19,
   "id": "8aaddd19",
   "metadata": {
    "execution": {
     "iopub.execute_input": "2023-05-12T12:54:58.928796Z",
     "iopub.status.busy": "2023-05-12T12:54:58.928390Z",
     "iopub.status.idle": "2023-05-12T12:54:58.936507Z",
     "shell.execute_reply": "2023-05-12T12:54:58.935127Z"
    },
    "papermill": {
     "duration": 0.022416,
     "end_time": "2023-05-12T12:54:58.939042",
     "exception": false,
     "start_time": "2023-05-12T12:54:58.916626",
     "status": "completed"
    },
    "tags": []
   },
   "outputs": [
    {
     "data": {
      "text/plain": [
       "Index(['Unnamed: 0', 'age', 'weight(kg)', 'height(m)', 'gender', 'BMI', 'BMR',\n",
       "       'activity_level', 'calories_to_maintain_weight', 'BMI_tags', 'Label'],\n",
       "      dtype='object')"
      ]
     },
     "execution_count": 19,
     "metadata": {},
     "output_type": "execute_result"
    }
   ],
   "source": [
    "df.columns"
   ]
  },
  {
   "cell_type": "code",
   "execution_count": 20,
   "id": "ecda24b8",
   "metadata": {
    "execution": {
     "iopub.execute_input": "2023-05-12T12:54:58.961735Z",
     "iopub.status.busy": "2023-05-12T12:54:58.960671Z",
     "iopub.status.idle": "2023-05-12T12:54:59.171147Z",
     "shell.execute_reply": "2023-05-12T12:54:59.169967Z"
    },
    "papermill": {
     "duration": 0.225086,
     "end_time": "2023-05-12T12:54:59.174141",
     "exception": false,
     "start_time": "2023-05-12T12:54:58.949055",
     "status": "completed"
    },
    "tags": []
   },
   "outputs": [],
   "source": [
    "import pandas as pd\n",
    "import xgboost as xgb\n",
    "from sklearn.model_selection import train_test_split\n",
    "from sklearn.metrics import mean_squared_error, r2_score"
   ]
  },
  {
   "cell_type": "code",
   "execution_count": 21,
   "id": "f6c545fc",
   "metadata": {
    "execution": {
     "iopub.execute_input": "2023-05-12T12:54:59.196622Z",
     "iopub.status.busy": "2023-05-12T12:54:59.196252Z",
     "iopub.status.idle": "2023-05-12T12:54:59.201927Z",
     "shell.execute_reply": "2023-05-12T12:54:59.200422Z"
    },
    "papermill": {
     "duration": 0.020253,
     "end_time": "2023-05-12T12:54:59.204461",
     "exception": false,
     "start_time": "2023-05-12T12:54:59.184208",
     "status": "completed"
    },
    "tags": []
   },
   "outputs": [],
   "source": [
    "features = ['age', 'weight(kg)', 'height(m)', 'BMI', 'BMR']\n",
    "target = 'calories_to_maintain_weight'"
   ]
  },
  {
   "cell_type": "code",
   "execution_count": 22,
   "id": "08e9569f",
   "metadata": {
    "execution": {
     "iopub.execute_input": "2023-05-12T12:54:59.227565Z",
     "iopub.status.busy": "2023-05-12T12:54:59.226378Z",
     "iopub.status.idle": "2023-05-12T12:54:59.239155Z",
     "shell.execute_reply": "2023-05-12T12:54:59.237874Z"
    },
    "papermill": {
     "duration": 0.027079,
     "end_time": "2023-05-12T12:54:59.241963",
     "exception": false,
     "start_time": "2023-05-12T12:54:59.214884",
     "status": "completed"
    },
    "tags": []
   },
   "outputs": [],
   "source": [
    "X_train, X_test, y_train, y_test = train_test_split(df[features], df[target], test_size=0.2, random_state=42)\n"
   ]
  },
  {
   "cell_type": "code",
   "execution_count": 23,
   "id": "7397b42d",
   "metadata": {
    "execution": {
     "iopub.execute_input": "2023-05-12T12:54:59.264431Z",
     "iopub.status.busy": "2023-05-12T12:54:59.263991Z",
     "iopub.status.idle": "2023-05-12T12:54:59.271794Z",
     "shell.execute_reply": "2023-05-12T12:54:59.270379Z"
    },
    "papermill": {
     "duration": 0.022226,
     "end_time": "2023-05-12T12:54:59.274375",
     "exception": false,
     "start_time": "2023-05-12T12:54:59.252149",
     "status": "completed"
    },
    "tags": []
   },
   "outputs": [
    {
     "data": {
      "text/plain": [
       "8580"
      ]
     },
     "execution_count": 23,
     "metadata": {},
     "output_type": "execute_result"
    }
   ],
   "source": [
    "len(X_train)"
   ]
  },
  {
   "cell_type": "code",
   "execution_count": 24,
   "id": "9165521a",
   "metadata": {
    "execution": {
     "iopub.execute_input": "2023-05-12T12:54:59.295822Z",
     "iopub.status.busy": "2023-05-12T12:54:59.295347Z",
     "iopub.status.idle": "2023-05-12T12:54:59.303527Z",
     "shell.execute_reply": "2023-05-12T12:54:59.302279Z"
    },
    "papermill": {
     "duration": 0.021894,
     "end_time": "2023-05-12T12:54:59.306051",
     "exception": false,
     "start_time": "2023-05-12T12:54:59.284157",
     "status": "completed"
    },
    "tags": []
   },
   "outputs": [
    {
     "data": {
      "text/plain": [
       "8580"
      ]
     },
     "execution_count": 24,
     "metadata": {},
     "output_type": "execute_result"
    }
   ],
   "source": [
    "len(y_train)"
   ]
  },
  {
   "cell_type": "code",
   "execution_count": 25,
   "id": "15900fa8",
   "metadata": {
    "execution": {
     "iopub.execute_input": "2023-05-12T12:54:59.328732Z",
     "iopub.status.busy": "2023-05-12T12:54:59.328244Z",
     "iopub.status.idle": "2023-05-12T12:54:59.333298Z",
     "shell.execute_reply": "2023-05-12T12:54:59.332248Z"
    },
    "papermill": {
     "duration": 0.02017,
     "end_time": "2023-05-12T12:54:59.336069",
     "exception": false,
     "start_time": "2023-05-12T12:54:59.315899",
     "status": "completed"
    },
    "tags": []
   },
   "outputs": [],
   "source": [
    "# dtrain = xgb.DMatrix(X_train, label=y_train)\n",
    "# dtest = xgb.DMatrix(X_test, label=y_test)\n"
   ]
  },
  {
   "cell_type": "code",
   "execution_count": 26,
   "id": "2e0b9003",
   "metadata": {
    "execution": {
     "iopub.execute_input": "2023-05-12T12:54:59.359466Z",
     "iopub.status.busy": "2023-05-12T12:54:59.358988Z",
     "iopub.status.idle": "2023-05-12T12:54:59.365837Z",
     "shell.execute_reply": "2023-05-12T12:54:59.364302Z"
    },
    "papermill": {
     "duration": 0.021863,
     "end_time": "2023-05-12T12:54:59.368407",
     "exception": false,
     "start_time": "2023-05-12T12:54:59.346544",
     "status": "completed"
    },
    "tags": []
   },
   "outputs": [],
   "source": [
    "params = {\n",
    "    'objective': 'reg:squarederror',\n",
    "    'eval_metric': 'rmse',\n",
    "    'eta': 0.1,\n",
    "    'max_depth': 5,\n",
    "    'min_child_weight': 1,\n",
    "    'subsample': 0.8,\n",
    "    'colsample_bytree': 0.8\n",
    "}\n"
   ]
  },
  {
   "cell_type": "code",
   "execution_count": 27,
   "id": "602a6177",
   "metadata": {
    "execution": {
     "iopub.execute_input": "2023-05-12T12:54:59.392516Z",
     "iopub.status.busy": "2023-05-12T12:54:59.392062Z",
     "iopub.status.idle": "2023-05-12T12:54:59.412085Z",
     "shell.execute_reply": "2023-05-12T12:54:59.411147Z"
    },
    "papermill": {
     "duration": 0.035954,
     "end_time": "2023-05-12T12:54:59.415083",
     "exception": false,
     "start_time": "2023-05-12T12:54:59.379129",
     "status": "completed"
    },
    "tags": []
   },
   "outputs": [],
   "source": [
    "dtrain = xgb.DMatrix(X_train, label=y_train)\n",
    "dtest = xgb.DMatrix(X_test, label=y_test)"
   ]
  },
  {
   "cell_type": "code",
   "execution_count": 28,
   "id": "090e10af",
   "metadata": {
    "execution": {
     "iopub.execute_input": "2023-05-12T12:54:59.439084Z",
     "iopub.status.busy": "2023-05-12T12:54:59.438284Z",
     "iopub.status.idle": "2023-05-12T12:54:59.443810Z",
     "shell.execute_reply": "2023-05-12T12:54:59.442857Z"
    },
    "papermill": {
     "duration": 0.020925,
     "end_time": "2023-05-12T12:54:59.446576",
     "exception": false,
     "start_time": "2023-05-12T12:54:59.425651",
     "status": "completed"
    },
    "tags": []
   },
   "outputs": [],
   "source": [
    "grid_params = {\n",
    "    'max_depth': [3, 5, 7],\n",
    "    'min_child_weight': [1, 3, 5],\n",
    "    'subsample': [0.6, 0.8, 1.0],\n",
    "    'colsample_bytree': [0.6, 0.8, 1.0],\n",
    "    'learning_rate': [0.1, 0.01, 0.001],\n",
    "    'n_estimators': [100, 500, 1000]\n",
    "}\n"
   ]
  },
  {
   "cell_type": "code",
   "execution_count": 29,
   "id": "4cd23073",
   "metadata": {
    "execution": {
     "iopub.execute_input": "2023-05-12T12:54:59.470334Z",
     "iopub.status.busy": "2023-05-12T12:54:59.469545Z",
     "iopub.status.idle": "2023-05-12T12:54:59.474836Z",
     "shell.execute_reply": "2023-05-12T12:54:59.473927Z"
    },
    "papermill": {
     "duration": 0.019589,
     "end_time": "2023-05-12T12:54:59.477172",
     "exception": false,
     "start_time": "2023-05-12T12:54:59.457583",
     "status": "completed"
    },
    "tags": []
   },
   "outputs": [],
   "source": [
    "from sklearn.model_selection import train_test_split, GridSearchCV\n",
    "grid_search = GridSearchCV(estimator=xgb.XGBRegressor(**params),\n",
    "                           param_grid=grid_params,\n",
    "                           scoring='neg_mean_squared_error',\n",
    "                           cv=5)"
   ]
  },
  {
   "cell_type": "code",
   "execution_count": 30,
   "id": "ca25a4c2",
   "metadata": {
    "execution": {
     "iopub.execute_input": "2023-05-12T12:54:59.500679Z",
     "iopub.status.busy": "2023-05-12T12:54:59.499877Z",
     "iopub.status.idle": "2023-05-12T15:19:33.913968Z",
     "shell.execute_reply": "2023-05-12T15:19:33.912553Z"
    },
    "papermill": {
     "duration": 8674.440084,
     "end_time": "2023-05-12T15:19:33.927764",
     "exception": false,
     "start_time": "2023-05-12T12:54:59.487680",
     "status": "completed"
    },
    "tags": []
   },
   "outputs": [
    {
     "data": {
      "text/html": [
       "<style>#sk-container-id-1 {color: black;background-color: white;}#sk-container-id-1 pre{padding: 0;}#sk-container-id-1 div.sk-toggleable {background-color: white;}#sk-container-id-1 label.sk-toggleable__label {cursor: pointer;display: block;width: 100%;margin-bottom: 0;padding: 0.3em;box-sizing: border-box;text-align: center;}#sk-container-id-1 label.sk-toggleable__label-arrow:before {content: \"▸\";float: left;margin-right: 0.25em;color: #696969;}#sk-container-id-1 label.sk-toggleable__label-arrow:hover:before {color: black;}#sk-container-id-1 div.sk-estimator:hover label.sk-toggleable__label-arrow:before {color: black;}#sk-container-id-1 div.sk-toggleable__content {max-height: 0;max-width: 0;overflow: hidden;text-align: left;background-color: #f0f8ff;}#sk-container-id-1 div.sk-toggleable__content pre {margin: 0.2em;color: black;border-radius: 0.25em;background-color: #f0f8ff;}#sk-container-id-1 input.sk-toggleable__control:checked~div.sk-toggleable__content {max-height: 200px;max-width: 100%;overflow: auto;}#sk-container-id-1 input.sk-toggleable__control:checked~label.sk-toggleable__label-arrow:before {content: \"▾\";}#sk-container-id-1 div.sk-estimator input.sk-toggleable__control:checked~label.sk-toggleable__label {background-color: #d4ebff;}#sk-container-id-1 div.sk-label input.sk-toggleable__control:checked~label.sk-toggleable__label {background-color: #d4ebff;}#sk-container-id-1 input.sk-hidden--visually {border: 0;clip: rect(1px 1px 1px 1px);clip: rect(1px, 1px, 1px, 1px);height: 1px;margin: -1px;overflow: hidden;padding: 0;position: absolute;width: 1px;}#sk-container-id-1 div.sk-estimator {font-family: monospace;background-color: #f0f8ff;border: 1px dotted black;border-radius: 0.25em;box-sizing: border-box;margin-bottom: 0.5em;}#sk-container-id-1 div.sk-estimator:hover {background-color: #d4ebff;}#sk-container-id-1 div.sk-parallel-item::after {content: \"\";width: 100%;border-bottom: 1px solid gray;flex-grow: 1;}#sk-container-id-1 div.sk-label:hover label.sk-toggleable__label {background-color: #d4ebff;}#sk-container-id-1 div.sk-serial::before {content: \"\";position: absolute;border-left: 1px solid gray;box-sizing: border-box;top: 0;bottom: 0;left: 50%;z-index: 0;}#sk-container-id-1 div.sk-serial {display: flex;flex-direction: column;align-items: center;background-color: white;padding-right: 0.2em;padding-left: 0.2em;position: relative;}#sk-container-id-1 div.sk-item {position: relative;z-index: 1;}#sk-container-id-1 div.sk-parallel {display: flex;align-items: stretch;justify-content: center;background-color: white;position: relative;}#sk-container-id-1 div.sk-item::before, #sk-container-id-1 div.sk-parallel-item::before {content: \"\";position: absolute;border-left: 1px solid gray;box-sizing: border-box;top: 0;bottom: 0;left: 50%;z-index: -1;}#sk-container-id-1 div.sk-parallel-item {display: flex;flex-direction: column;z-index: 1;position: relative;background-color: white;}#sk-container-id-1 div.sk-parallel-item:first-child::after {align-self: flex-end;width: 50%;}#sk-container-id-1 div.sk-parallel-item:last-child::after {align-self: flex-start;width: 50%;}#sk-container-id-1 div.sk-parallel-item:only-child::after {width: 0;}#sk-container-id-1 div.sk-dashed-wrapped {border: 1px dashed gray;margin: 0 0.4em 0.5em 0.4em;box-sizing: border-box;padding-bottom: 0.4em;background-color: white;}#sk-container-id-1 div.sk-label label {font-family: monospace;font-weight: bold;display: inline-block;line-height: 1.2em;}#sk-container-id-1 div.sk-label-container {text-align: center;}#sk-container-id-1 div.sk-container {/* jupyter's `normalize.less` sets `[hidden] { display: none; }` but bootstrap.min.css set `[hidden] { display: none !important; }` so we also need the `!important` here to be able to override the default hidden behavior on the sphinx rendered scikit-learn.org. See: https://github.com/scikit-learn/scikit-learn/issues/21755 */display: inline-block !important;position: relative;}#sk-container-id-1 div.sk-text-repr-fallback {display: none;}</style><div id=\"sk-container-id-1\" class=\"sk-top-container\"><div class=\"sk-text-repr-fallback\"><pre>GridSearchCV(cv=5,\n",
       "             estimator=XGBRegressor(base_score=None, booster=None,\n",
       "                                    callbacks=None, colsample_bylevel=None,\n",
       "                                    colsample_bynode=None, colsample_bytree=0.8,\n",
       "                                    early_stopping_rounds=None,\n",
       "                                    enable_categorical=False, eta=0.1,\n",
       "                                    eval_metric=&#x27;rmse&#x27;, feature_types=None,\n",
       "                                    gamma=None, gpu_id=None, grow_policy=None,\n",
       "                                    importance_type=None,\n",
       "                                    interaction_constraints=None,\n",
       "                                    learning_ra...\n",
       "                                    max_depth=5, max_leaves=None,\n",
       "                                    min_child_weight=1, missing=nan,\n",
       "                                    monotone_constraints=None, n_estimators=100,\n",
       "                                    n_jobs=None, num_parallel_tree=None,\n",
       "                                    predictor=None, ...),\n",
       "             param_grid={&#x27;colsample_bytree&#x27;: [0.6, 0.8, 1.0],\n",
       "                         &#x27;learning_rate&#x27;: [0.1, 0.01, 0.001],\n",
       "                         &#x27;max_depth&#x27;: [3, 5, 7], &#x27;min_child_weight&#x27;: [1, 3, 5],\n",
       "                         &#x27;n_estimators&#x27;: [100, 500, 1000],\n",
       "                         &#x27;subsample&#x27;: [0.6, 0.8, 1.0]},\n",
       "             scoring=&#x27;neg_mean_squared_error&#x27;)</pre><b>In a Jupyter environment, please rerun this cell to show the HTML representation or trust the notebook. <br />On GitHub, the HTML representation is unable to render, please try loading this page with nbviewer.org.</b></div><div class=\"sk-container\" hidden><div class=\"sk-item sk-dashed-wrapped\"><div class=\"sk-label-container\"><div class=\"sk-label sk-toggleable\"><input class=\"sk-toggleable__control sk-hidden--visually\" id=\"sk-estimator-id-1\" type=\"checkbox\" ><label for=\"sk-estimator-id-1\" class=\"sk-toggleable__label sk-toggleable__label-arrow\">GridSearchCV</label><div class=\"sk-toggleable__content\"><pre>GridSearchCV(cv=5,\n",
       "             estimator=XGBRegressor(base_score=None, booster=None,\n",
       "                                    callbacks=None, colsample_bylevel=None,\n",
       "                                    colsample_bynode=None, colsample_bytree=0.8,\n",
       "                                    early_stopping_rounds=None,\n",
       "                                    enable_categorical=False, eta=0.1,\n",
       "                                    eval_metric=&#x27;rmse&#x27;, feature_types=None,\n",
       "                                    gamma=None, gpu_id=None, grow_policy=None,\n",
       "                                    importance_type=None,\n",
       "                                    interaction_constraints=None,\n",
       "                                    learning_ra...\n",
       "                                    max_depth=5, max_leaves=None,\n",
       "                                    min_child_weight=1, missing=nan,\n",
       "                                    monotone_constraints=None, n_estimators=100,\n",
       "                                    n_jobs=None, num_parallel_tree=None,\n",
       "                                    predictor=None, ...),\n",
       "             param_grid={&#x27;colsample_bytree&#x27;: [0.6, 0.8, 1.0],\n",
       "                         &#x27;learning_rate&#x27;: [0.1, 0.01, 0.001],\n",
       "                         &#x27;max_depth&#x27;: [3, 5, 7], &#x27;min_child_weight&#x27;: [1, 3, 5],\n",
       "                         &#x27;n_estimators&#x27;: [100, 500, 1000],\n",
       "                         &#x27;subsample&#x27;: [0.6, 0.8, 1.0]},\n",
       "             scoring=&#x27;neg_mean_squared_error&#x27;)</pre></div></div></div><div class=\"sk-parallel\"><div class=\"sk-parallel-item\"><div class=\"sk-item\"><div class=\"sk-label-container\"><div class=\"sk-label sk-toggleable\"><input class=\"sk-toggleable__control sk-hidden--visually\" id=\"sk-estimator-id-2\" type=\"checkbox\" ><label for=\"sk-estimator-id-2\" class=\"sk-toggleable__label sk-toggleable__label-arrow\">estimator: XGBRegressor</label><div class=\"sk-toggleable__content\"><pre>XGBRegressor(base_score=None, booster=None, callbacks=None,\n",
       "             colsample_bylevel=None, colsample_bynode=None,\n",
       "             colsample_bytree=0.8, early_stopping_rounds=None,\n",
       "             enable_categorical=False, eta=0.1, eval_metric=&#x27;rmse&#x27;,\n",
       "             feature_types=None, gamma=None, gpu_id=None, grow_policy=None,\n",
       "             importance_type=None, interaction_constraints=None,\n",
       "             learning_rate=None, max_bin=None, max_cat_threshold=None,\n",
       "             max_cat_to_onehot=None, max_delta_step=None, max_depth=5,\n",
       "             max_leaves=None, min_child_weight=1, missing=nan,\n",
       "             monotone_constraints=None, n_estimators=100, n_jobs=None,\n",
       "             num_parallel_tree=None, predictor=None, ...)</pre></div></div></div><div class=\"sk-serial\"><div class=\"sk-item\"><div class=\"sk-estimator sk-toggleable\"><input class=\"sk-toggleable__control sk-hidden--visually\" id=\"sk-estimator-id-3\" type=\"checkbox\" ><label for=\"sk-estimator-id-3\" class=\"sk-toggleable__label sk-toggleable__label-arrow\">XGBRegressor</label><div class=\"sk-toggleable__content\"><pre>XGBRegressor(base_score=None, booster=None, callbacks=None,\n",
       "             colsample_bylevel=None, colsample_bynode=None,\n",
       "             colsample_bytree=0.8, early_stopping_rounds=None,\n",
       "             enable_categorical=False, eta=0.1, eval_metric=&#x27;rmse&#x27;,\n",
       "             feature_types=None, gamma=None, gpu_id=None, grow_policy=None,\n",
       "             importance_type=None, interaction_constraints=None,\n",
       "             learning_rate=None, max_bin=None, max_cat_threshold=None,\n",
       "             max_cat_to_onehot=None, max_delta_step=None, max_depth=5,\n",
       "             max_leaves=None, min_child_weight=1, missing=nan,\n",
       "             monotone_constraints=None, n_estimators=100, n_jobs=None,\n",
       "             num_parallel_tree=None, predictor=None, ...)</pre></div></div></div></div></div></div></div></div></div></div>"
      ],
      "text/plain": [
       "GridSearchCV(cv=5,\n",
       "             estimator=XGBRegressor(base_score=None, booster=None,\n",
       "                                    callbacks=None, colsample_bylevel=None,\n",
       "                                    colsample_bynode=None, colsample_bytree=0.8,\n",
       "                                    early_stopping_rounds=None,\n",
       "                                    enable_categorical=False, eta=0.1,\n",
       "                                    eval_metric='rmse', feature_types=None,\n",
       "                                    gamma=None, gpu_id=None, grow_policy=None,\n",
       "                                    importance_type=None,\n",
       "                                    interaction_constraints=None,\n",
       "                                    learning_ra...\n",
       "                                    max_depth=5, max_leaves=None,\n",
       "                                    min_child_weight=1, missing=nan,\n",
       "                                    monotone_constraints=None, n_estimators=100,\n",
       "                                    n_jobs=None, num_parallel_tree=None,\n",
       "                                    predictor=None, ...),\n",
       "             param_grid={'colsample_bytree': [0.6, 0.8, 1.0],\n",
       "                         'learning_rate': [0.1, 0.01, 0.001],\n",
       "                         'max_depth': [3, 5, 7], 'min_child_weight': [1, 3, 5],\n",
       "                         'n_estimators': [100, 500, 1000],\n",
       "                         'subsample': [0.6, 0.8, 1.0]},\n",
       "             scoring='neg_mean_squared_error')"
      ]
     },
     "execution_count": 30,
     "metadata": {},
     "output_type": "execute_result"
    }
   ],
   "source": [
    "grid_search.fit(X_train, y_train)"
   ]
  },
  {
   "cell_type": "code",
   "execution_count": 31,
   "id": "72affba9",
   "metadata": {
    "execution": {
     "iopub.execute_input": "2023-05-12T15:19:33.952254Z",
     "iopub.status.busy": "2023-05-12T15:19:33.951728Z",
     "iopub.status.idle": "2023-05-12T15:19:33.957276Z",
     "shell.execute_reply": "2023-05-12T15:19:33.956079Z"
    },
    "papermill": {
     "duration": 0.021063,
     "end_time": "2023-05-12T15:19:33.959602",
     "exception": false,
     "start_time": "2023-05-12T15:19:33.938539",
     "status": "completed"
    },
    "tags": []
   },
   "outputs": [],
   "source": [
    "best_params = grid_search.best_params_"
   ]
  },
  {
   "cell_type": "code",
   "execution_count": 32,
   "id": "a4512231",
   "metadata": {
    "execution": {
     "iopub.execute_input": "2023-05-12T15:19:33.983164Z",
     "iopub.status.busy": "2023-05-12T15:19:33.982705Z",
     "iopub.status.idle": "2023-05-12T15:19:39.160363Z",
     "shell.execute_reply": "2023-05-12T15:19:39.158966Z"
    },
    "papermill": {
     "duration": 5.192965,
     "end_time": "2023-05-12T15:19:39.163591",
     "exception": false,
     "start_time": "2023-05-12T15:19:33.970626",
     "status": "completed"
    },
    "tags": []
   },
   "outputs": [
    {
     "data": {
      "text/html": [
       "<style>#sk-container-id-2 {color: black;background-color: white;}#sk-container-id-2 pre{padding: 0;}#sk-container-id-2 div.sk-toggleable {background-color: white;}#sk-container-id-2 label.sk-toggleable__label {cursor: pointer;display: block;width: 100%;margin-bottom: 0;padding: 0.3em;box-sizing: border-box;text-align: center;}#sk-container-id-2 label.sk-toggleable__label-arrow:before {content: \"▸\";float: left;margin-right: 0.25em;color: #696969;}#sk-container-id-2 label.sk-toggleable__label-arrow:hover:before {color: black;}#sk-container-id-2 div.sk-estimator:hover label.sk-toggleable__label-arrow:before {color: black;}#sk-container-id-2 div.sk-toggleable__content {max-height: 0;max-width: 0;overflow: hidden;text-align: left;background-color: #f0f8ff;}#sk-container-id-2 div.sk-toggleable__content pre {margin: 0.2em;color: black;border-radius: 0.25em;background-color: #f0f8ff;}#sk-container-id-2 input.sk-toggleable__control:checked~div.sk-toggleable__content {max-height: 200px;max-width: 100%;overflow: auto;}#sk-container-id-2 input.sk-toggleable__control:checked~label.sk-toggleable__label-arrow:before {content: \"▾\";}#sk-container-id-2 div.sk-estimator input.sk-toggleable__control:checked~label.sk-toggleable__label {background-color: #d4ebff;}#sk-container-id-2 div.sk-label input.sk-toggleable__control:checked~label.sk-toggleable__label {background-color: #d4ebff;}#sk-container-id-2 input.sk-hidden--visually {border: 0;clip: rect(1px 1px 1px 1px);clip: rect(1px, 1px, 1px, 1px);height: 1px;margin: -1px;overflow: hidden;padding: 0;position: absolute;width: 1px;}#sk-container-id-2 div.sk-estimator {font-family: monospace;background-color: #f0f8ff;border: 1px dotted black;border-radius: 0.25em;box-sizing: border-box;margin-bottom: 0.5em;}#sk-container-id-2 div.sk-estimator:hover {background-color: #d4ebff;}#sk-container-id-2 div.sk-parallel-item::after {content: \"\";width: 100%;border-bottom: 1px solid gray;flex-grow: 1;}#sk-container-id-2 div.sk-label:hover label.sk-toggleable__label {background-color: #d4ebff;}#sk-container-id-2 div.sk-serial::before {content: \"\";position: absolute;border-left: 1px solid gray;box-sizing: border-box;top: 0;bottom: 0;left: 50%;z-index: 0;}#sk-container-id-2 div.sk-serial {display: flex;flex-direction: column;align-items: center;background-color: white;padding-right: 0.2em;padding-left: 0.2em;position: relative;}#sk-container-id-2 div.sk-item {position: relative;z-index: 1;}#sk-container-id-2 div.sk-parallel {display: flex;align-items: stretch;justify-content: center;background-color: white;position: relative;}#sk-container-id-2 div.sk-item::before, #sk-container-id-2 div.sk-parallel-item::before {content: \"\";position: absolute;border-left: 1px solid gray;box-sizing: border-box;top: 0;bottom: 0;left: 50%;z-index: -1;}#sk-container-id-2 div.sk-parallel-item {display: flex;flex-direction: column;z-index: 1;position: relative;background-color: white;}#sk-container-id-2 div.sk-parallel-item:first-child::after {align-self: flex-end;width: 50%;}#sk-container-id-2 div.sk-parallel-item:last-child::after {align-self: flex-start;width: 50%;}#sk-container-id-2 div.sk-parallel-item:only-child::after {width: 0;}#sk-container-id-2 div.sk-dashed-wrapped {border: 1px dashed gray;margin: 0 0.4em 0.5em 0.4em;box-sizing: border-box;padding-bottom: 0.4em;background-color: white;}#sk-container-id-2 div.sk-label label {font-family: monospace;font-weight: bold;display: inline-block;line-height: 1.2em;}#sk-container-id-2 div.sk-label-container {text-align: center;}#sk-container-id-2 div.sk-container {/* jupyter's `normalize.less` sets `[hidden] { display: none; }` but bootstrap.min.css set `[hidden] { display: none !important; }` so we also need the `!important` here to be able to override the default hidden behavior on the sphinx rendered scikit-learn.org. See: https://github.com/scikit-learn/scikit-learn/issues/21755 */display: inline-block !important;position: relative;}#sk-container-id-2 div.sk-text-repr-fallback {display: none;}</style><div id=\"sk-container-id-2\" class=\"sk-top-container\"><div class=\"sk-text-repr-fallback\"><pre>XGBRegressor(base_score=None, booster=None, callbacks=None,\n",
       "             colsample_bylevel=None, colsample_bynode=None,\n",
       "             colsample_bytree=0.6, early_stopping_rounds=None,\n",
       "             enable_categorical=False, eval_metric=None, feature_types=None,\n",
       "             gamma=None, gpu_id=None, grow_policy=None, importance_type=None,\n",
       "             interaction_constraints=None, learning_rate=0.01, max_bin=None,\n",
       "             max_cat_threshold=None, max_cat_to_onehot=None,\n",
       "             max_delta_step=None, max_depth=5, max_leaves=None,\n",
       "             min_child_weight=5, missing=nan, monotone_constraints=None,\n",
       "             n_estimators=1000, n_jobs=None, num_parallel_tree=None,\n",
       "             predictor=None, random_state=None, ...)</pre><b>In a Jupyter environment, please rerun this cell to show the HTML representation or trust the notebook. <br />On GitHub, the HTML representation is unable to render, please try loading this page with nbviewer.org.</b></div><div class=\"sk-container\" hidden><div class=\"sk-item\"><div class=\"sk-estimator sk-toggleable\"><input class=\"sk-toggleable__control sk-hidden--visually\" id=\"sk-estimator-id-4\" type=\"checkbox\" checked><label for=\"sk-estimator-id-4\" class=\"sk-toggleable__label sk-toggleable__label-arrow\">XGBRegressor</label><div class=\"sk-toggleable__content\"><pre>XGBRegressor(base_score=None, booster=None, callbacks=None,\n",
       "             colsample_bylevel=None, colsample_bynode=None,\n",
       "             colsample_bytree=0.6, early_stopping_rounds=None,\n",
       "             enable_categorical=False, eval_metric=None, feature_types=None,\n",
       "             gamma=None, gpu_id=None, grow_policy=None, importance_type=None,\n",
       "             interaction_constraints=None, learning_rate=0.01, max_bin=None,\n",
       "             max_cat_threshold=None, max_cat_to_onehot=None,\n",
       "             max_delta_step=None, max_depth=5, max_leaves=None,\n",
       "             min_child_weight=5, missing=nan, monotone_constraints=None,\n",
       "             n_estimators=1000, n_jobs=None, num_parallel_tree=None,\n",
       "             predictor=None, random_state=None, ...)</pre></div></div></div></div></div>"
      ],
      "text/plain": [
       "XGBRegressor(base_score=None, booster=None, callbacks=None,\n",
       "             colsample_bylevel=None, colsample_bynode=None,\n",
       "             colsample_bytree=0.6, early_stopping_rounds=None,\n",
       "             enable_categorical=False, eval_metric=None, feature_types=None,\n",
       "             gamma=None, gpu_id=None, grow_policy=None, importance_type=None,\n",
       "             interaction_constraints=None, learning_rate=0.01, max_bin=None,\n",
       "             max_cat_threshold=None, max_cat_to_onehot=None,\n",
       "             max_delta_step=None, max_depth=5, max_leaves=None,\n",
       "             min_child_weight=5, missing=nan, monotone_constraints=None,\n",
       "             n_estimators=1000, n_jobs=None, num_parallel_tree=None,\n",
       "             predictor=None, random_state=None, ...)"
      ]
     },
     "execution_count": 32,
     "metadata": {},
     "output_type": "execute_result"
    }
   ],
   "source": [
    "model = xgb.XGBRegressor(**best_params)\n",
    "model.fit(X_train, y_train)"
   ]
  },
  {
   "cell_type": "code",
   "execution_count": 33,
   "id": "8b429fa9",
   "metadata": {
    "execution": {
     "iopub.execute_input": "2023-05-12T15:19:39.300906Z",
     "iopub.status.busy": "2023-05-12T15:19:39.300423Z",
     "iopub.status.idle": "2023-05-12T15:19:39.327770Z",
     "shell.execute_reply": "2023-05-12T15:19:39.326710Z"
    },
    "papermill": {
     "duration": 0.154845,
     "end_time": "2023-05-12T15:19:39.330359",
     "exception": false,
     "start_time": "2023-05-12T15:19:39.175514",
     "status": "completed"
    },
    "tags": []
   },
   "outputs": [],
   "source": [
    "y_pred = model.predict(X_test)"
   ]
  },
  {
   "cell_type": "code",
   "execution_count": 34,
   "id": "cbc10b7f",
   "metadata": {
    "execution": {
     "iopub.execute_input": "2023-05-12T15:19:39.355680Z",
     "iopub.status.busy": "2023-05-12T15:19:39.354900Z",
     "iopub.status.idle": "2023-05-12T15:19:39.361179Z",
     "shell.execute_reply": "2023-05-12T15:19:39.360240Z"
    },
    "papermill": {
     "duration": 0.021981,
     "end_time": "2023-05-12T15:19:39.363578",
     "exception": false,
     "start_time": "2023-05-12T15:19:39.341597",
     "status": "completed"
    },
    "tags": []
   },
   "outputs": [],
   "source": [
    "mse = mean_squared_error(y_test, y_pred)\n",
    "rmse = np.sqrt(mse)\n",
    "r2 = r2_score(y_test, y_pred)"
   ]
  },
  {
   "cell_type": "code",
   "execution_count": 35,
   "id": "6451f195",
   "metadata": {
    "execution": {
     "iopub.execute_input": "2023-05-12T15:19:39.387944Z",
     "iopub.status.busy": "2023-05-12T15:19:39.387180Z",
     "iopub.status.idle": "2023-05-12T15:19:39.392878Z",
     "shell.execute_reply": "2023-05-12T15:19:39.391526Z"
    },
    "papermill": {
     "duration": 0.02057,
     "end_time": "2023-05-12T15:19:39.395099",
     "exception": false,
     "start_time": "2023-05-12T15:19:39.374529",
     "status": "completed"
    },
    "tags": []
   },
   "outputs": [
    {
     "name": "stdout",
     "output_type": "stream",
     "text": [
      "0.5182778159061222\n"
     ]
    }
   ],
   "source": [
    "print(r2)"
   ]
  },
  {
   "cell_type": "code",
   "execution_count": null,
   "id": "9407e8ca",
   "metadata": {
    "papermill": {
     "duration": 0.010417,
     "end_time": "2023-05-12T15:19:39.416277",
     "exception": false,
     "start_time": "2023-05-12T15:19:39.405860",
     "status": "completed"
    },
    "tags": []
   },
   "outputs": [],
   "source": []
  },
  {
   "cell_type": "code",
   "execution_count": null,
   "id": "930164e4",
   "metadata": {
    "papermill": {
     "duration": 0.010933,
     "end_time": "2023-05-12T15:19:39.437946",
     "exception": false,
     "start_time": "2023-05-12T15:19:39.427013",
     "status": "completed"
    },
    "tags": []
   },
   "outputs": [],
   "source": []
  }
 ],
 "metadata": {
  "kernelspec": {
   "display_name": "Python 3",
   "language": "python",
   "name": "python3"
  },
  "language_info": {
   "codemirror_mode": {
    "name": "ipython",
    "version": 3
   },
   "file_extension": ".py",
   "mimetype": "text/x-python",
   "name": "python",
   "nbconvert_exporter": "python",
   "pygments_lexer": "ipython3",
   "version": "3.10.10"
  },
  "papermill": {
   "default_parameters": {},
   "duration": 8695.771409,
   "end_time": "2023-05-12T15:19:40.586941",
   "environment_variables": {},
   "exception": null,
   "input_path": "__notebook__.ipynb",
   "output_path": "__notebook__.ipynb",
   "parameters": {},
   "start_time": "2023-05-12T12:54:44.815532",
   "version": "2.4.0"
  }
 },
 "nbformat": 4,
 "nbformat_minor": 5
}
