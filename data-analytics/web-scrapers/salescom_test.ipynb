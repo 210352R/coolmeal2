{
 "cells": [
  {
   "cell_type": "code",
   "execution_count": 1,
   "metadata": {},
   "outputs": [],
   "source": [
    "import requests\n",
    "import csv\n",
    "import re\n",
    "from bs4 import BeautifulSoup\n",
    "import os\n",
    "from datetime import date"
   ]
  },
  {
   "cell_type": "code",
   "execution_count": 2,
   "metadata": {},
   "outputs": [],
   "source": [
    "# Function to fetch HTML content from a URL\n",
    "def fetch_html(url):\n",
    "    try:\n",
    "        response = requests.get(url)\n",
    "        if response.status_code == 200:\n",
    "            return response.text\n",
    "        else:\n",
    "            print(f\"Failed to retrieve HTML. Status code: {response.status_code}\")\n",
    "            return None\n",
    "    except requests.RequestException as e:\n",
    "        print(f\"Error fetching HTML: {e}\")\n",
    "        return None"
   ]
  },
  {
   "cell_type": "code",
   "execution_count": 15,
   "metadata": {},
   "outputs": [],
   "source": [
    "url = \"https://salescom.lk/product-details?type=1&id=50\"\n",
    "html_content = fetch_html(url)\n"
   ]
  },
  {
   "cell_type": "code",
   "execution_count": 16,
   "metadata": {},
   "outputs": [],
   "source": [
    "soup = BeautifulSoup(html_content, \"html.parser\")"
   ]
  },
  {
   "cell_type": "code",
   "execution_count": 17,
   "metadata": {},
   "outputs": [
    {
     "name": "stdout",
     "output_type": "stream",
     "text": [
      "Lifebuoy Handwash Green Tea 200ml\n",
      "Title found\n"
     ]
    }
   ],
   "source": [
    "title = soup.find(\"h2\", class_=\"title-detail\").text\n",
    "\n",
    "print(title)\n",
    "\n",
    "if(title == \"\"):\n",
    "    print(\"Title not found\")\n",
    "else:\n",
    "    print(\"Title found\")\n"
   ]
  },
  {
   "cell_type": "code",
   "execution_count": 24,
   "metadata": {},
   "outputs": [],
   "source": [
    "def get_title(html_content):\n",
    "    soup = BeautifulSoup(html_content, \"html.parser\")\n",
    "    title = soup.find(\"h2\", class_=\"title-detail\").text\n",
    "    return title\n",
    "\n",
    "def checkTitleIsvalid(title):\n",
    "    if(title == \"\"):\n",
    "        return False\n",
    "    else:\n",
    "        return True\n",
    "\n",
    "    "
   ]
  },
  {
   "cell_type": "markdown",
   "metadata": {},
   "source": [
    "#### method for get selected value from html Content"
   ]
  },
  {
   "cell_type": "code",
   "execution_count": 30,
   "metadata": {},
   "outputs": [],
   "source": [
    "def get_selected_weight(html_content):\n",
    "    # Parse the HTML content\n",
    "    soup = BeautifulSoup(html_content, \"html.parser\")\n",
    "\n",
    "    # Find the <select> element by its ID\n",
    "    select_element = soup.find(\"select\", {\"id\": \"select_models\"})\n",
    "\n",
    "    # Find the selected <option> within the <select> element\n",
    "    selected_option = select_element.find(\"option\", selected=True)\n",
    "\n",
    "    # Get the text of the selected option\n",
    "    selected_weight = selected_option.text\n",
    "\n",
    "    return selected_weight"
   ]
  },
  {
   "cell_type": "markdown",
   "metadata": {},
   "source": [
    "#### Method for get price"
   ]
  },
  {
   "cell_type": "code",
   "execution_count": 31,
   "metadata": {},
   "outputs": [],
   "source": [
    "def get_price(html_content):\n",
    "    # Parse the HTML content\n",
    "    soup = BeautifulSoup(html_content, \"html.parser\")\n",
    "\n",
    "    # Find the <div> element with the specified class\n",
    "    price_div = soup.find(\"div\", class_=\"product-price primary-color float-left\")\n",
    "\n",
    "    # Find the span with the class 'current-price text-brand'\n",
    "    price_span = price_div.find(\"span\", class_=\"current-price text-brand\")\n",
    "\n",
    "    # Extract the price text, combining nested spans\n",
    "    price_text = price_span.text.strip().replace(\"\\n\", \"\")\n",
    "\n",
    "    return price_text"
   ]
  },
  {
   "cell_type": "code",
   "execution_count": null,
   "metadata": {},
   "outputs": [],
   "source": [
    "\"https://salescom.lk/listing?maincat=4&subl1=26\""
   ]
  },
  {
   "cell_type": "code",
   "execution_count": null,
   "metadata": {},
   "outputs": [],
   "source": [
    "# for i in range(1, 1000):\n",
    "#     url = f\"https://salescom.lk/product-details?type=1&id={i}\"\n",
    "#     html_content = fetch_html(url)\n",
    "#     title = get_title(html_content)\n",
    "#     is_valid = checkTitleIsvalid(title)\n",
    "#     if(is_valid):\n",
    "#         print(f\"i : {i} Title is valid: {title}\")\n",
    "    "
   ]
  },
  {
   "cell_type": "code",
   "execution_count": 34,
   "metadata": {},
   "outputs": [
    {
     "name": "stdout",
     "output_type": "stream",
     "text": [
      " Title is valid - title : Lifebuoy Handwash Green Tea 200ml\n",
      "weight :  price : Rs. 290\n"
     ]
    }
   ],
   "source": [
    "url  = \"https://salescom.lk/product-details?type=1&id=50\"\n",
    "html_content = fetch_html(url)\n",
    "title = get_title(html_content)\n",
    "is_valid = checkTitleIsvalid(title)\n",
    "if(is_valid):\n",
    "    weight = \"\"\n",
    "    print(f\" Title is valid - title : {title}\")\n",
    "    # weight = get_selected_weight(html_content)\n",
    "    price = get_price(html_content)\n",
    "    print(f\"weight : {weight} price : {price}\")\n"
   ]
  },
  {
   "cell_type": "code",
   "execution_count": 35,
   "metadata": {},
   "outputs": [
    {
     "name": "stdout",
     "output_type": "stream",
     "text": [
      " Title is valid - title : Lifebuoy Handwash Green Tea 200ml\n",
      "weight :  price : Rs. 290\n",
      " Title is valid - title : Sunlight Care Pearls 600 ml\n",
      "weight :  price : Rs. 260\n",
      " Title is valid - title : Munchee Choco Cream Biscuit 400g\n",
      "weight :  price : Rs. 390\n",
      " Title is valid - title : MD Mango Jam 225g\n",
      "weight :  price : Rs. 290\n",
      " Title is valid - title : MD Strawberry Flavoured Jelly 100g\n",
      "weight :  price : Rs. 110\n",
      " Title is valid - title : Motha Icing Sugar 1Kg\n",
      "weight :  price : Rs. 540\n",
      " Title is valid - title : Motha Mix Fruit Flavoured Jelly 50g\n",
      "weight :  price : Rs. 60\n",
      " Title is valid - title : Motha Apple Flavoured Jelly 200g\n",
      "weight :  price : Rs. 210\n",
      " Title is valid - title : Motha Woodapple Flavoured Jelly 100g\n",
      "weight :  price : Rs. 125\n",
      " Title is valid - title : Motha Rambutan Flavoured Jelly 100g\n",
      "weight :  price : Rs. 230\n"
     ]
    }
   ],
   "source": [
    "for i in range(50, 60):\n",
    "    url = f\"https://salescom.lk/product-details?type=1&id={i}\"\n",
    "    html_content = fetch_html(url)\n",
    "    title = get_title(html_content)\n",
    "    is_valid = checkTitleIsvalid(title)\n",
    "    if(is_valid):\n",
    "        weight = \"\"\n",
    "        print(f\" Title is valid - title : {title}\")\n",
    "        # weight = get_selected_weight(html_content)\n",
    "        price = get_price(html_content)\n",
    "        print(f\"weight : {weight} price : {price}\")\n"
   ]
  },
  {
   "cell_type": "code",
   "execution_count": 40,
   "metadata": {},
   "outputs": [
    {
     "name": "stdout",
     "output_type": "stream",
     "text": [
      "1\n",
      "No weight options found\n"
     ]
    },
    {
     "data": {
      "text/plain": [
       "''"
      ]
     },
     "execution_count": 40,
     "metadata": {},
     "output_type": "execute_result"
    }
   ],
   "source": [
    "def check_selected_weight_null(html_content):\n",
    "    # Parse the HTML content\n",
    "    soup = BeautifulSoup(html_content, \"html.parser\")\n",
    "\n",
    "    # Find the <select> element by its ID\n",
    "    select_element = soup.find(\"select\", {\"id\": \"select_models\"})\n",
    "\n",
    "    # print(select_element)\n",
    "    # Find all <option> tags within the <select> element\n",
    "    options = select_element.find_all(\"option\")\n",
    "\n",
    "    # Count the number of <option> tags\n",
    "    option_count = len(options)\n",
    "\n",
    "    if option_count == 1:\n",
    "        print(\"No weight options found\")\n",
    "        selected_weight = \"\"\n",
    "        title = get_title(html_content)\n",
    "        \n",
    "        \n",
    "    \n",
    "    else:\n",
    "        # Find the selected <option> within the <select> element\n",
    "        selected_option = select_element.find(\"option\", selected=True)\n",
    "\n",
    "        # Get the text of the selected option\n",
    "        selected_weight = selected_option.text\n",
    "        \n",
    "    return selected_weight\n",
    "\n",
    "    # # Find the selected <option> within the <select> element\n",
    "    # selected_option = select_element.find(\"option\", selected=True)\n",
    "\n",
    "    # # Get the text of the selected option\n",
    "    # selected_weight = selected_option.text\n",
    "\n",
    "    # return selected_weight\n",
    "\n",
    "url  = \"https://salescom.lk/product-details?type=1&id=50\"\n",
    "html_content = fetch_html(url)\n",
    "check_selected_weight_null(html_content)\n",
    "\n"
   ]
  },
  {
   "cell_type": "code",
   "execution_count": 41,
   "metadata": {},
   "outputs": [
    {
     "name": "stdout",
     "output_type": "stream",
     "text": [
      "5\n"
     ]
    },
    {
     "data": {
      "text/plain": [
       "'1Kg'"
      ]
     },
     "execution_count": 41,
     "metadata": {},
     "output_type": "execute_result"
    }
   ],
   "source": [
    "url  = \"https://salescom.lk/product-details?type=1&id=614\"\n",
    "html_content = fetch_html(url)\n",
    "check_selected_weight_null(html_content)"
   ]
  },
  {
   "cell_type": "code",
   "execution_count": null,
   "metadata": {},
   "outputs": [],
   "source": []
  }
 ],
 "metadata": {
  "kernelspec": {
   "display_name": "base",
   "language": "python",
   "name": "python3"
  },
  "language_info": {
   "codemirror_mode": {
    "name": "ipython",
    "version": 3
   },
   "file_extension": ".py",
   "mimetype": "text/x-python",
   "name": "python",
   "nbconvert_exporter": "python",
   "pygments_lexer": "ipython3",
   "version": "3.11.7"
  }
 },
 "nbformat": 4,
 "nbformat_minor": 2
}
