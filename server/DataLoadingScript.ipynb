{
 "cells": [
  {
   "cell_type": "code",
   "execution_count": 5,
   "metadata": {},
   "outputs": [
    {
     "name": "stdout",
     "output_type": "stream",
     "text": [
      "Reading data from ./FinalPermutations.csv...\n",
      "Data loaded successfully. Number of records: 200000\n",
      "Uploading the first 10 records with index: [{'Breakfast': 'Red Rice with Fish Curry, Tapioca Chips, Batu Moju', 'Lunch': 'Red Rice with Banana Blossom Curry, Green Gram Curry, Fenugreek Curry', 'Dinner': 'Vegetable Kottu with Devilled Fish', 'Price': 792.3, 'Total Energy(Kcal)': 1482.37, 'Total Protein(g)': 73.5357, 'Total Total fat(g)': 83.1566, 'Total Carbohydrates(g)': 175.93710000000002, 'Total Magnesium(mg)': 478.5, 'Total Sodium(mg)': 128.367, 'Total Potassium(mg)': 3346.98, 'Total Saturated Fatty Acids(mg)': 37105.9815, 'Total Monounsaturated Fatty Acids(mg)': 6314.2741000000005, 'Total Polyunsaturated Fatty Acids(mg)': 5152.7615000000005, 'Total Free sugar(g)': 11.7442, 'Total Starch(g)': 151.1037, 'index': 0}, {'Breakfast': 'Red Rice with Parippu, Brinjal Moju, Ginger Chicken', 'Lunch': 'Kottu Roti with Chicken Curry', 'Dinner': 'Red Rice with Fish Curry, Kiri Hodi, Sprats Fry', 'Price': 748.878571428, 'Total Energy(Kcal)': 1403.335, 'Total Protein(g)': 72.6759, 'Total Total fat(g)': 116.79305, 'Total Carbohydrates(g)': 113.99815, 'Total Magnesium(mg)': 372.028, 'Total Sodium(mg)': 149.75905, 'Total Potassium(mg)': 2679.591, 'Total Saturated Fatty Acids(mg)': 50047.419, 'Total Monounsaturated Fatty Acids(mg)': 10200.688999999998, 'Total Polyunsaturated Fatty Acids(mg)': 3867.1725, 'Total Free sugar(g)': 10.187550000000002, 'Total Starch(g)': 94.4599, 'index': 1}, {'Breakfast': 'Red Rice with Coriander Sambol, Coconut Sambol, Shrimp Cutlets', 'Lunch': 'Red Rice with Chickpea Curry, Fenugreek Curry, Egg Curry', 'Dinner': 'Vegetable Biryani with Chicken Curry, Devilled Fish', 'Price': 755.2, 'Total Energy(Kcal)': 2006.658, 'Total Protein(g)': 95.27754, 'Total Total fat(g)': 154.73754, 'Total Carbohydrates(g)': 213.91446, 'Total Magnesium(mg)': 681.047, 'Total Sodium(mg)': 216.68126, 'Total Potassium(mg)': 4178.252, 'Total Saturated Fatty Acids(mg)': 81049.989, 'Total Monounsaturated Fatty Acids(mg)': 18479.57398, 'Total Polyunsaturated Fatty Acids(mg)': 8075.974, 'Total Free sugar(g)': 19.29102, 'Total Starch(g)': 166.11654, 'index': 2}, {'Breakfast': 'Hoppers', 'Lunch': 'Red Rice with Elumas Curry, Potato Curry, Devilled Beef', 'Dinner': 'Pumpkin Soup', 'Price': 408.125, 'Total Energy(Kcal)': 1273.78, 'Total Protein(g)': 39.334, 'Total Total fat(g)': 111.2976, 'Total Carbohydrates(g)': 107.3142, 'Total Magnesium(mg)': 242.99049999999997, 'Total Sodium(mg)': 72.4864, 'Total Potassium(mg)': 1663.5839999999998, 'Total Saturated Fatty Acids(mg)': 39954.549000000006, 'Total Monounsaturated Fatty Acids(mg)': 8905.823599999998, 'Total Polyunsaturated Fatty Acids(mg)': 2540.5365, 'Total Free sugar(g)': 12.3714, 'Total Starch(g)': 88.51039999999999, 'index': 3}, {'Breakfast': 'Red Rice with Bathala Curry, Mustard Greens Curry, Murukku', 'Lunch': 'String Hoppers with Pol Sambol', 'Dinner': 'Coconut Roti with Dhal Curry', 'Price': 304.678, 'Total Energy(Kcal)': 1378.88, 'Total Protein(g)': 57.9928, 'Total Total fat(g)': 93.0337, 'Total Carbohydrates(g)': 202.3275, 'Total Magnesium(mg)': 308.9966, 'Total Sodium(mg)': 99.5752, 'Total Potassium(mg)': 2477.07, 'Total Saturated Fatty Acids(mg)': 60123.2138, 'Total Monounsaturated Fatty Acids(mg)': 7188.461, 'Total Polyunsaturated Fatty Acids(mg)': 3299.2409, 'Total Free sugar(g)': 13.4424, 'Total Starch(g)': 172.60019999999997, 'index': 4}, {'Breakfast': 'Red Rice with Egg Curry, Radish Sambol, Polos Mallum', 'Lunch': 'Gotu Kola Kanda', 'Dinner': 'Red Rice with Green Pea Curry, Vegetable Cutlets, Polos Mallum', 'Price': 275.59, 'Total Energy(Kcal)': 1271.5499999999995, 'Total Protein(g)': 44.7925, 'Total Total fat(g)': 121.193, 'Total Carbohydrates(g)': 148.704, 'Total Magnesium(mg)': 335.1595, 'Total Sodium(mg)': 170.9805, 'Total Potassium(mg)': 2910.38, 'Total Saturated Fatty Acids(mg)': 71690.75899999999, 'Total Monounsaturated Fatty Acids(mg)': 9049.274, 'Total Polyunsaturated Fatty Acids(mg)': 3828.841, 'Total Free sugar(g)': 25.275, 'Total Starch(g)': 110.202, 'index': 5}, {'Breakfast': 'Seafood Fried Rice with Chicken Curry, Devilled Fish', 'Lunch': 'Red Rice with Snake Gourd Curry, Pumpkin curry, Jaffna Crab Curry', 'Dinner': 'Red Rice with Chicken Curry, Fenugreek Curry, Jaffna Crab Curry', 'Price': 650.347, 'Total Energy(Kcal)': 1560.6799999999998, 'Total Protein(g)': 83.2483, 'Total Total fat(g)': 124.2534, 'Total Carbohydrates(g)': 171.34779999999998, 'Total Magnesium(mg)': 482.7095000000001, 'Total Sodium(mg)': 122.0678, 'Total Potassium(mg)': 3182.64, 'Total Saturated Fatty Acids(mg)': 72700.9743, 'Total Monounsaturated Fatty Acids(mg)': 11042.6912, 'Total Polyunsaturated Fatty Acids(mg)': 6183.7207, 'Total Free sugar(g)': 13.904799999999998, 'Total Starch(g)': 142.945, 'index': 6}, {'Breakfast': 'Red Rice with Eggplant Curry, Spinach Curry, Radish Sambol', 'Lunch': 'Red Rice with Devilled Fish, Carrot Sambol, Kiri Hodi', 'Dinner': 'Red Rice with Dhal Curry, Collard Greens Curry, Jackfruit Mallum', 'Price': 2975.68, 'Total Energy(Kcal)': 1538.3399999999997, 'Total Protein(g)': 66.96960000000001, 'Total Total fat(g)': 149.7362, 'Total Carbohydrates(g)': 180.2881, 'Total Magnesium(mg)': 513.8725, 'Total Sodium(mg)': 151.7107, 'Total Potassium(mg)': 4167.31, 'Total Saturated Fatty Acids(mg)': 95039.421, 'Total Monounsaturated Fatty Acids(mg)': 13264.1215, 'Total Polyunsaturated Fatty Acids(mg)': 5204.682, 'Total Free sugar(g)': 20.6632, 'Total Starch(g)': 135.26859999999996, 'index': 7}, {'Breakfast': 'Red Rice with Gotu Kola Sambol, Mint Sambol, Seeni Sambol', 'Lunch': 'Red Rice with Chicken Curry, Bean Curry, Batu Moju', 'Dinner': 'Seafood Biryani with Ginger Chicken', 'Price': 602.388, 'Total Energy(Kcal)': 1558.332, 'Total Protein(g)': 75.53611000000001, 'Total Total fat(g)': 87.84215999999999, 'Total Carbohydrates(g)': 211.83249, 'Total Magnesium(mg)': 416.8015, 'Total Sodium(mg)': 91.45074, 'Total Potassium(mg)': 2665.308, 'Total Saturated Fatty Acids(mg)': 47730.5445, 'Total Monounsaturated Fatty Acids(mg)': 9822.655470000002, 'Total Polyunsaturated Fatty Acids(mg)': 3827.4855, 'Total Free sugar(g)': 16.680380000000003, 'Total Starch(g)': 146.71336, 'index': 8}, {'Breakfast': 'Red Rice with Snake Gourd Curry, Green Pea Curry, Pumpkin Leaves Curry', 'Lunch': 'Vegetable Kottu with Devilled Chicken', 'Dinner': 'Zesty Lime Rice', 'Price': 373.465, 'Total Energy(Kcal)': 1237.9, 'Total Protein(g)': 50.8015, 'Total Total fat(g)': 58.8255, 'Total Carbohydrates(g)': 194.38, 'Total Magnesium(mg)': 324.07250000000005, 'Total Sodium(mg)': 64.39450000000001, 'Total Potassium(mg)': 2243.55, 'Total Saturated Fatty Acids(mg)': 33971.712, 'Total Monounsaturated Fatty Acids(mg)': 5175.638, 'Total Polyunsaturated Fatty Acids(mg)': 3069.383, 'Total Free sugar(g)': 9.1785, 'Total Starch(g)': 175.26299999999998, 'index': 9}]\n",
      "Connected to MongoDB Atlas successfully.\n",
      "Inserting data into MongoDB Atlas...\n",
      "First 10 records with index inserted into MongoDB successfully.\n"
     ]
    }
   ],
   "source": [
    "import os\n",
    "import requests\n",
    "import pandas as pd\n",
    "from pymongo import MongoClient\n",
    "from dotenv import load_dotenv\n",
    "\n",
    "# Load environment variables from .env file\n",
    "load_dotenv()\n",
    "\n",
    "# MongoDB Atlas connection setup\n",
    "def get_mongo_client():\n",
    "    mongo_uri = os.getenv(\"MONGO_URI\")  # Get the MongoDB URI from .env file\n",
    "    if not mongo_uri:\n",
    "        raise ValueError(\"MONGO_URI is not set in the .env file\")\n",
    "    client = MongoClient(mongo_uri)\n",
    "    return client\n",
    "\n",
    "# Download CSV if not exists\n",
    "def download_csv():\n",
    "    if not os.path.exists(\"./FinalPermutations.csv\"):\n",
    "        s3_url = \"https://coolmeal.s3.amazonaws.com/FinalPermutations.csv\"\n",
    "        print(f\"File not found at ./FinalPermutations.csv. Downloading from S3...\")\n",
    "        response = requests.get(s3_url)\n",
    "\n",
    "        if response.status_code == 200:\n",
    "            with open(\"./FinalPermutations.csv\", \"wb\") as f:\n",
    "                f.write(response.content)\n",
    "            print(\n",
    "                f\"File downloaded successfully from S3 and saved to ./FinalPermutations.csv.\"\n",
    "            )\n",
    "        else:\n",
    "            raise FileNotFoundError(\n",
    "                f\"Failed to download file from {s3_url}. HTTP status code: {response.status_code}\"\n",
    "            )\n",
    "\n",
    "# Load data from CSV to MongoDB\n",
    "def load_data_to_mongo():\n",
    "    # Download the CSV file if not present\n",
    "    download_csv()\n",
    "\n",
    "    # Read the CSV data\n",
    "    print(\"Reading data from ./FinalPermutations.csv...\")\n",
    "    df = pd.read_csv(\"./FinalPermutations.csv\")\n",
    "    print(f\"Data loaded successfully. Number of records: {len(df)}\")\n",
    "\n",
    "    # Get the first 10 records\n",
    "    first_10_records = df.head(10)\n",
    "\n",
    "    # Add index as a separate column (e.g., 'index')\n",
    "    first_10_records_with_index = first_10_records.copy()\n",
    "    first_10_records_with_index['index'] = first_10_records_with_index.index\n",
    "\n",
    "    # Convert DataFrame to a list of dictionaries\n",
    "    records_to_insert = first_10_records_with_index.to_dict(orient='records')\n",
    "\n",
    "    print(f\"Uploading the first 10 records with index: {records_to_insert}\")\n",
    "\n",
    "    client = get_mongo_client()\n",
    "    db = client[\"cool-server\"]  \n",
    "    collection = db[\"Meal_plans\"]  \n",
    "\n",
    "    print(\"Connected to MongoDB Atlas successfully.\")\n",
    "\n",
    "    # Insert the records into MongoDB\n",
    "    print(\"Inserting data into MongoDB Atlas...\")\n",
    "    collection.insert_many(records_to_insert)\n",
    "    print(\"First 10 records with index inserted into MongoDB successfully.\")\n",
    "\n",
    "# Run the function to load data\n",
    "load_data_to_mongo()\n"
   ]
  },
  {
   "cell_type": "code",
   "execution_count": null,
   "metadata": {},
   "outputs": [],
   "source": []
  }
 ],
 "metadata": {
  "kernelspec": {
   "display_name": "base",
   "language": "python",
   "name": "python3"
  },
  "language_info": {
   "codemirror_mode": {
    "name": "ipython",
    "version": 3
   },
   "file_extension": ".py",
   "mimetype": "text/x-python",
   "name": "python",
   "nbconvert_exporter": "python",
   "pygments_lexer": "ipython3",
   "version": "3.11.7"
  }
 },
 "nbformat": 4,
 "nbformat_minor": 2
}
