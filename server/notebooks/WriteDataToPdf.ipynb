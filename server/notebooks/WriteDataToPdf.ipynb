{
 "cells": [
  {
   "cell_type": "code",
   "execution_count": 11,
   "metadata": {},
   "outputs": [
    {
     "name": "stdout",
     "output_type": "stream",
     "text": [
      "CSV file '../data-analytics/datasets/meals/FinalMeals.csv' read successfully.\n",
      "Data successfully written to PDF file: 'final_meals_pdf_wide.pdf'\n"
     ]
    }
   ],
   "source": [
    "import pandas as pd\n",
    "from fpdf import FPDF\n",
    "\n",
    "# Function to read CSV and write specific columns to a PDF file with increased page width\n",
    "def csv_to_pdf(csv_file_path, pdf_file_path):\n",
    "    # Step 1: Read the CSV file using pandas\n",
    "    try:\n",
    "        data = pd.read_csv(csv_file_path)\n",
    "        print(f\"CSV file '{csv_file_path}' read successfully.\")\n",
    "    except Exception as e:\n",
    "        raise Exception(f\"Error reading CSV file: {str(e)}\")\n",
    "\n",
    "    # Step 2: Filter the 'Complete Meal' and 'Ingredients' columns\n",
    "    required_columns = ['Complete Meal', 'Ingredients']\n",
    "    if not all(col in data.columns for col in required_columns):\n",
    "        raise Exception(f\"Required columns {required_columns} not found in CSV file\")\n",
    "\n",
    "    # Filter the DataFrame to only these columns\n",
    "    data = data[required_columns]\n",
    "    \n",
    "    # Step 3: Initialize FPDF with custom page size (A3 in landscape mode)\n",
    "    pdf = FPDF(orientation='L', unit='mm', format=(500, 210))  # Custom size: 297mm wide (A3 width), 210mm height\n",
    "    pdf.set_auto_page_break(auto=True, margin=15)\n",
    "    pdf.add_page()\n",
    "\n",
    "    # Set font for the PDF\n",
    "    pdf.set_font(\"Arial\", size=5)\n",
    "\n",
    "    # Step 4: Write the column headers ('Complete Meal', 'Ingredients') to the PDF\n",
    "    pdf.cell(90, 10, 'Complete Meal', 1, 0, 'C')  # Adjust width for increased page size\n",
    "    pdf.cell(95, 10, 'Ingredients', 1, 0, 'C')\n",
    "    pdf.ln()  # Move to the next line\n",
    "\n",
    "    # Step 5: Write each row of data for 'Complete Meal' and 'Ingredients'\n",
    "    for i, row in data.iterrows():\n",
    "        pdf.cell(90, 10, str(row['Complete Meal']), 1, 0, 'C')  # Adjust width for new page size\n",
    "        pdf.cell(95, 10, str(row['Ingredients']), 1, 0, 'C')\n",
    "        pdf.ln()\n",
    "\n",
    "    # Step 6: Output the PDF to the specified file\n",
    "    try:\n",
    "        pdf.output(pdf_file_path)\n",
    "        print(f\"Data successfully written to PDF file: '{pdf_file_path}'\")\n",
    "    except Exception as e:\n",
    "        raise Exception(f\"Error writing to PDF file: {str(e)}\")\n",
    "\n",
    "# Usage example (Replace with actual paths)\n",
    "csv_to_pdf(\"../data-analytics/datasets/meals/FinalMeals.csv\", \"final_meals_pdf_wide.pdf\")\n"
   ]
  },
  {
   "cell_type": "code",
   "execution_count": null,
   "metadata": {},
   "outputs": [],
   "source": []
  }
 ],
 "metadata": {
  "kernelspec": {
   "display_name": "base",
   "language": "python",
   "name": "python3"
  },
  "language_info": {
   "codemirror_mode": {
    "name": "ipython",
    "version": 3
   },
   "file_extension": ".py",
   "mimetype": "text/x-python",
   "name": "python",
   "nbconvert_exporter": "python",
   "pygments_lexer": "ipython3",
   "version": "3.11.7"
  }
 },
 "nbformat": 4,
 "nbformat_minor": 2
}
