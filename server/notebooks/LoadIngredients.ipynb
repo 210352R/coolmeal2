{
 "cells": [
  {
   "cell_type": "code",
   "execution_count": 3,
   "metadata": {},
   "outputs": [
    {
     "name": "stdout",
     "output_type": "stream",
     "text": [
      "Successfully uploaded 155 records to the Ingredients collection after clearing it.\n"
     ]
    }
   ],
   "source": [
    "# Insert ingredients\n",
    "\n",
    "\n",
    "import os\n",
    "import requests\n",
    "import pandas as pd\n",
    "from pymongo import MongoClient, ASCENDING\n",
    "from dotenv import load_dotenv\n",
    "\n",
    "# Load environment variables from .env file\n",
    "load_dotenv()\n",
    "\n",
    "\n",
    "# MongoDB Atlas connection setup\n",
    "def get_mongo_client():\n",
    "    mongo_uri = os.getenv(\"MONGO_URI\")  # Get the MongoDB URI from .env file\n",
    "    if not mongo_uri:\n",
    "        raise ValueError(\"MONGO_URI is not set in the .env file\")\n",
    "    client = MongoClient(mongo_uri)\n",
    "    return client\n",
    "\n",
    "client = get_mongo_client()\n",
    "db = client[\"cool-server\"]\n",
    "collection = db['Ingredients'] \n",
    "collection.delete_many({})\n",
    "\n",
    "# Read CSV data\n",
    "csv_file = '../../data-analytics/datasets/ingredients/final_ingredients.csv' \n",
    "data = pd.read_csv(csv_file)\n",
    "\n",
    "# Convert the DataFrame to a dictionary for MongoDB insertion\n",
    "data_dict = data.to_dict(orient='records')\n",
    "\n",
    "# Insert data into the MongoDB collection\n",
    "collection.insert_many(data_dict)\n",
    "\n",
    "print(f\"Successfully uploaded {len(data_dict)} records to the Ingredients collection after clearing it.\")\n",
    "\n"
   ]
  }
 ],
 "metadata": {
  "kernelspec": {
   "display_name": "base",
   "language": "python",
   "name": "python3"
  },
  "language_info": {
   "codemirror_mode": {
    "name": "ipython",
    "version": 3
   },
   "file_extension": ".py",
   "mimetype": "text/x-python",
   "name": "python",
   "nbconvert_exporter": "python",
   "pygments_lexer": "ipython3",
   "version": "3.11.8"
  }
 },
 "nbformat": 4,
 "nbformat_minor": 2
}
